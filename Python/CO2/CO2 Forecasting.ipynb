{
 "cells": [
  {
   "cell_type": "code",
   "execution_count": 2,
   "id": "abe7c320",
   "metadata": {},
   "outputs": [],
   "source": [
    "import numpy as np\n",
    "import pandas as pd\n",
    "import matplotlib.pyplot as plt\n",
    "import seaborn as sns\n",
    "\n",
    "from statsmodels.tsa.seasonal import seasonal_decompose,STL\n",
    "from statsmodels.tsa.holtwinters import SimpleExpSmoothing,Holt,ExponentialSmoothing\n",
    "from statsmodels.tsa.stattools import adfuller\n",
    "from statsmodels.graphics.tsaplots import plot_acf,plot_pacf\n",
    "from statsmodels.tsa.ar_model import AutoReg as AR,ARResults\n",
    "from statsmodels.tsa.arima.model import ARIMA\n",
    "from statsmodels.tsa.statespace.sarimax import SARIMAX\n",
    "from pmdarima import auto_arima\n",
    "\n",
    "from sklearn.linear_model import LinearRegression\n",
    "from sklearn.ensemble import RandomForestRegressor\n",
    "\n",
    "from xgboost import XGBRegressor\n",
    "\n",
    "from sklearn.metrics import mean_squared_error,mean_absolute_error\n",
    "from math import sqrt"
   ]
  },
  {
   "cell_type": "code",
   "execution_count": 3,
   "id": "8ce3c071",
   "metadata": {},
   "outputs": [],
   "source": [
    "df = pd.read_excel(\"CO2 dataset.xlsx\")"
   ]
  },
  {
   "cell_type": "code",
   "execution_count": 4,
   "id": "c88ef7eb",
   "metadata": {},
   "outputs": [
    {
     "data": {
      "text/html": [
       "<div>\n",
       "<style scoped>\n",
       "    .dataframe tbody tr th:only-of-type {\n",
       "        vertical-align: middle;\n",
       "    }\n",
       "\n",
       "    .dataframe tbody tr th {\n",
       "        vertical-align: top;\n",
       "    }\n",
       "\n",
       "    .dataframe thead th {\n",
       "        text-align: right;\n",
       "    }\n",
       "</style>\n",
       "<table border=\"1\" class=\"dataframe\">\n",
       "  <thead>\n",
       "    <tr style=\"text-align: right;\">\n",
       "      <th></th>\n",
       "      <th>CO2</th>\n",
       "    </tr>\n",
       "    <tr>\n",
       "      <th>Year</th>\n",
       "      <th></th>\n",
       "    </tr>\n",
       "  </thead>\n",
       "  <tbody>\n",
       "    <tr>\n",
       "      <th>1800-01-01</th>\n",
       "      <td>0.00568</td>\n",
       "    </tr>\n",
       "    <tr>\n",
       "      <th>1801-01-01</th>\n",
       "      <td>0.00561</td>\n",
       "    </tr>\n",
       "    <tr>\n",
       "      <th>1802-01-01</th>\n",
       "      <td>0.00555</td>\n",
       "    </tr>\n",
       "    <tr>\n",
       "      <th>1803-01-01</th>\n",
       "      <td>0.00548</td>\n",
       "    </tr>\n",
       "    <tr>\n",
       "      <th>1804-01-01</th>\n",
       "      <td>0.00542</td>\n",
       "    </tr>\n",
       "  </tbody>\n",
       "</table>\n",
       "</div>"
      ],
      "text/plain": [
       "                CO2\n",
       "Year               \n",
       "1800-01-01  0.00568\n",
       "1801-01-01  0.00561\n",
       "1802-01-01  0.00555\n",
       "1803-01-01  0.00548\n",
       "1804-01-01  0.00542"
      ]
     },
     "execution_count": 4,
     "metadata": {},
     "output_type": "execute_result"
    }
   ],
   "source": [
    "df.index = pd.to_datetime(df['Year'], format='%Y')\n",
    "df.drop('Year',axis=1, inplace=True)\n",
    "df.head()"
   ]
  },
  {
   "cell_type": "code",
   "execution_count": 5,
   "id": "55d0bf9b",
   "metadata": {},
   "outputs": [
    {
     "name": "stdout",
     "output_type": "stream",
     "text": [
      "<class 'pandas.core.frame.DataFrame'>\n",
      "DatetimeIndex: 215 entries, 1800-01-01 to 2014-01-01\n",
      "Data columns (total 1 columns):\n",
      " #   Column  Non-Null Count  Dtype  \n",
      "---  ------  --------------  -----  \n",
      " 0   CO2     215 non-null    float64\n",
      "dtypes: float64(1)\n",
      "memory usage: 3.4 KB\n"
     ]
    }
   ],
   "source": [
    "df.info()"
   ]
  },
  {
   "cell_type": "code",
   "execution_count": 6,
   "id": "bcebd144",
   "metadata": {},
   "outputs": [
    {
     "data": {
      "text/plain": [
       "CO2    0\n",
       "dtype: int64"
      ]
     },
     "execution_count": 6,
     "metadata": {},
     "output_type": "execute_result"
    }
   ],
   "source": [
    "df.isnull().sum()"
   ]
  },
  {
   "cell_type": "code",
   "execution_count": 7,
   "id": "7288083d",
   "metadata": {},
   "outputs": [
    {
     "data": {
      "text/html": [
       "<div>\n",
       "<style scoped>\n",
       "    .dataframe tbody tr th:only-of-type {\n",
       "        vertical-align: middle;\n",
       "    }\n",
       "\n",
       "    .dataframe tbody tr th {\n",
       "        vertical-align: top;\n",
       "    }\n",
       "\n",
       "    .dataframe thead th {\n",
       "        text-align: right;\n",
       "    }\n",
       "</style>\n",
       "<table border=\"1\" class=\"dataframe\">\n",
       "  <thead>\n",
       "    <tr style=\"text-align: right;\">\n",
       "      <th></th>\n",
       "      <th>CO2</th>\n",
       "    </tr>\n",
       "  </thead>\n",
       "  <tbody>\n",
       "    <tr>\n",
       "      <th>count</th>\n",
       "      <td>215.000000</td>\n",
       "    </tr>\n",
       "    <tr>\n",
       "      <th>mean</th>\n",
       "      <td>6.741970</td>\n",
       "    </tr>\n",
       "    <tr>\n",
       "      <th>std</th>\n",
       "      <td>6.522437</td>\n",
       "    </tr>\n",
       "    <tr>\n",
       "      <th>min</th>\n",
       "      <td>0.001750</td>\n",
       "    </tr>\n",
       "    <tr>\n",
       "      <th>25%</th>\n",
       "      <td>0.041050</td>\n",
       "    </tr>\n",
       "    <tr>\n",
       "      <th>50%</th>\n",
       "      <td>6.390000</td>\n",
       "    </tr>\n",
       "    <tr>\n",
       "      <th>75%</th>\n",
       "      <td>11.500000</td>\n",
       "    </tr>\n",
       "    <tr>\n",
       "      <th>max</th>\n",
       "      <td>18.200000</td>\n",
       "    </tr>\n",
       "  </tbody>\n",
       "</table>\n",
       "</div>"
      ],
      "text/plain": [
       "              CO2\n",
       "count  215.000000\n",
       "mean     6.741970\n",
       "std      6.522437\n",
       "min      0.001750\n",
       "25%      0.041050\n",
       "50%      6.390000\n",
       "75%     11.500000\n",
       "max     18.200000"
      ]
     },
     "execution_count": 7,
     "metadata": {},
     "output_type": "execute_result"
    }
   ],
   "source": [
    "df.describe()"
   ]
  },
  {
   "cell_type": "code",
   "execution_count": 8,
   "id": "cf80bdea",
   "metadata": {},
   "outputs": [
    {
     "data": {
      "text/html": [
       "<div>\n",
       "<style scoped>\n",
       "    .dataframe tbody tr th:only-of-type {\n",
       "        vertical-align: middle;\n",
       "    }\n",
       "\n",
       "    .dataframe tbody tr th {\n",
       "        vertical-align: top;\n",
       "    }\n",
       "\n",
       "    .dataframe thead th {\n",
       "        text-align: right;\n",
       "    }\n",
       "</style>\n",
       "<table border=\"1\" class=\"dataframe\">\n",
       "  <thead>\n",
       "    <tr style=\"text-align: right;\">\n",
       "      <th></th>\n",
       "      <th>CO2</th>\n",
       "    </tr>\n",
       "    <tr>\n",
       "      <th>Year</th>\n",
       "      <th></th>\n",
       "    </tr>\n",
       "  </thead>\n",
       "  <tbody>\n",
       "    <tr>\n",
       "      <th>1800-01-01</th>\n",
       "      <td>0.00568</td>\n",
       "    </tr>\n",
       "    <tr>\n",
       "      <th>1801-01-01</th>\n",
       "      <td>0.00561</td>\n",
       "    </tr>\n",
       "    <tr>\n",
       "      <th>1802-01-01</th>\n",
       "      <td>0.00555</td>\n",
       "    </tr>\n",
       "    <tr>\n",
       "      <th>1803-01-01</th>\n",
       "      <td>0.00548</td>\n",
       "    </tr>\n",
       "    <tr>\n",
       "      <th>1804-01-01</th>\n",
       "      <td>0.00542</td>\n",
       "    </tr>\n",
       "  </tbody>\n",
       "</table>\n",
       "</div>"
      ],
      "text/plain": [
       "                CO2\n",
       "Year               \n",
       "1800-01-01  0.00568\n",
       "1801-01-01  0.00561\n",
       "1802-01-01  0.00555\n",
       "1803-01-01  0.00548\n",
       "1804-01-01  0.00542"
      ]
     },
     "execution_count": 8,
     "metadata": {},
     "output_type": "execute_result"
    }
   ],
   "source": [
    "df.head()"
   ]
  },
  {
   "cell_type": "code",
   "execution_count": 9,
   "id": "bbba37de",
   "metadata": {},
   "outputs": [
    {
     "data": {
      "text/html": [
       "<div>\n",
       "<style scoped>\n",
       "    .dataframe tbody tr th:only-of-type {\n",
       "        vertical-align: middle;\n",
       "    }\n",
       "\n",
       "    .dataframe tbody tr th {\n",
       "        vertical-align: top;\n",
       "    }\n",
       "\n",
       "    .dataframe thead th {\n",
       "        text-align: right;\n",
       "    }\n",
       "</style>\n",
       "<table border=\"1\" class=\"dataframe\">\n",
       "  <thead>\n",
       "    <tr style=\"text-align: right;\">\n",
       "      <th></th>\n",
       "      <th>CO2</th>\n",
       "    </tr>\n",
       "    <tr>\n",
       "      <th>Year</th>\n",
       "      <th></th>\n",
       "    </tr>\n",
       "  </thead>\n",
       "  <tbody>\n",
       "    <tr>\n",
       "      <th>2010-01-01</th>\n",
       "      <td>15.6</td>\n",
       "    </tr>\n",
       "    <tr>\n",
       "      <th>2011-01-01</th>\n",
       "      <td>15.6</td>\n",
       "    </tr>\n",
       "    <tr>\n",
       "      <th>2012-01-01</th>\n",
       "      <td>14.8</td>\n",
       "    </tr>\n",
       "    <tr>\n",
       "      <th>2013-01-01</th>\n",
       "      <td>14.7</td>\n",
       "    </tr>\n",
       "    <tr>\n",
       "      <th>2014-01-01</th>\n",
       "      <td>15.1</td>\n",
       "    </tr>\n",
       "  </tbody>\n",
       "</table>\n",
       "</div>"
      ],
      "text/plain": [
       "             CO2\n",
       "Year            \n",
       "2010-01-01  15.6\n",
       "2011-01-01  15.6\n",
       "2012-01-01  14.8\n",
       "2013-01-01  14.7\n",
       "2014-01-01  15.1"
      ]
     },
     "execution_count": 9,
     "metadata": {},
     "output_type": "execute_result"
    }
   ],
   "source": [
    "df.tail()"
   ]
  },
  {
   "cell_type": "code",
   "execution_count": 10,
   "id": "5b8a46d8",
   "metadata": {},
   "outputs": [
    {
     "data": {
      "image/png": "[encoded data removed]",
      "text/plain": [
       "<Figure size 1152x432 with 1 Axes>"
      ]
     },
     "metadata": {
      "needs_background": "light"
     },
     "output_type": "display_data"
    }
   ],
   "source": [
    "df['CO2'].plot(figsize=(16,6),legend=True,label='CO2 emission levels through years').autoscale(axis='x',tight=True);\n",
    "df.rolling(window=10).mean()['CO2'].plot(legend=True,label='Trend of CO2 emission through years');\n",
    "plt.grid(axis='x')"
   ]
  },
  {
   "cell_type": "code",
   "execution_count": 11,
   "id": "ece5345f",
   "metadata": {},
   "outputs": [
    {
     "data": {
      "image/png": "[encoded data removed]",
      "text/plain": [
       "<Figure size 1152x432 with 1 Axes>"
      ]
     },
     "metadata": {
      "needs_background": "light"
     },
     "output_type": "display_data"
    }
   ],
   "source": [
    "df.rolling(window=10).mean()['CO2'].plot(figsize=(16,6),legend=True,label='Trend of CO2 emission through years');\n",
    "plt.grid(axis='x')"
   ]
  },
  {
   "cell_type": "markdown",
   "id": "88fc49f9",
   "metadata": {},
   "source": [
    "##### The first peak in CO2 emissions we see in timeframe of 1900 -1925 is due to World War 1 which occured during 1914 – 1918\n",
    "##### The first peak in CO2 emissions we see in timeframe of 1930 -1950 is due to World War 2 which occured during 1939 – 1945\n",
    "##### The first peak in CO2 emissions we see in timeframe of 1960 -1990 is due to various advancements during war that found commerial usage, rise in use of electronic appliances and economic boom in west."
   ]
  },
  {
   "cell_type": "code",
   "execution_count": 12,
   "id": "51f98abf",
   "metadata": {},
   "outputs": [
    {
     "data": {
      "text/plain": [
       "<AxesSubplot:title={'center':'Total CO2 emitted over years'}, xlabel='Year'>"
      ]
     },
     "execution_count": 12,
     "metadata": {},
     "output_type": "execute_result"
    },
    {
     "data": {
      "image/png": "[encoded data removed]",
      "text/plain": [
       "<Figure size 1152x360 with 1 Axes>"
      ]
     },
     "metadata": {
      "needs_background": "light"
     },
     "output_type": "display_data"
    }
   ],
   "source": [
    "df.cumsum().plot(figsize=(16,5),kind = 'area',title='Total CO2 emitted over years')"
   ]
  },
  {
   "cell_type": "code",
   "execution_count": 13,
   "id": "b8e5f926",
   "metadata": {},
   "outputs": [],
   "source": [
    "# help(seasonal_decompose)"
   ]
  },
  {
   "cell_type": "code",
   "execution_count": 14,
   "id": "a2ec87a3",
   "metadata": {},
   "outputs": [
    {
     "data": {
      "image/png": "[encoded data removed]",
      "text/plain": [
       "<Figure size 432x288 with 4 Axes>"
      ]
     },
     "metadata": {
      "needs_background": "light"
     },
     "output_type": "display_data"
    }
   ],
   "source": [
    "seasonal_dcp = seasonal_decompose(df['CO2'],period=10)\n",
    "seasonal_dcp.plot();"
   ]
  },
  {
   "cell_type": "code",
   "execution_count": 15,
   "id": "44e2de63",
   "metadata": {},
   "outputs": [],
   "source": [
    "# help(STL)"
   ]
  },
  {
   "cell_type": "code",
   "execution_count": 16,
   "id": "e66ae49a",
   "metadata": {},
   "outputs": [
    {
     "data": {
      "image/png": "[encoded data removed]",
      "text/plain": [
       "<Figure size 432x288 with 4 Axes>"
      ]
     },
     "metadata": {
      "needs_background": "light"
     },
     "output_type": "display_data"
    }
   ],
   "source": [
    "res = STL(df[\"CO2\"],period =10, robust=True).fit()\n",
    "res.plot()\n",
    "plt.show()"
   ]
  },
  {
   "cell_type": "code",
   "execution_count": 17,
   "id": "035cadf6",
   "metadata": {},
   "outputs": [],
   "source": [
    "from statsmodels.tsa.filters.hp_filter import hpfilter\n",
    "gdp_cycle, gdp_trend = hpfilter(df['CO2'], lamb=6.25)"
   ]
  },
  {
   "cell_type": "code",
   "execution_count": 18,
   "id": "8349c063",
   "metadata": {},
   "outputs": [
    {
     "data": {
      "image/png": "[encoded data removed]",
      "text/plain": [
       "<Figure size 1296x360 with 1 Axes>"
      ]
     },
     "metadata": {
      "needs_background": "light"
     },
     "output_type": "display_data"
    }
   ],
   "source": [
    "gdp_cycle.plot(figsize=(18,5)).autoscale(axis='x',tight=True);"
   ]
  },
  {
   "cell_type": "code",
   "execution_count": 19,
   "id": "abf184ff",
   "metadata": {},
   "outputs": [
    {
     "data": {
      "image/png": "[encoded data removed]",
      "text/plain": [
       "<Figure size 1296x360 with 1 Axes>"
      ]
     },
     "metadata": {
      "needs_background": "light"
     },
     "output_type": "display_data"
    }
   ],
   "source": [
    "gdp_trend.plot(figsize=(18,5)).autoscale(axis='x',tight=True)"
   ]
  },
  {
   "cell_type": "code",
   "execution_count": 20,
   "id": "079a5399",
   "metadata": {},
   "outputs": [],
   "source": [
    "def adf_test(series,title=''):\n",
    "    print(f'Augmented Dickey-Fuller Test: {title}')\n",
    "    result = adfuller(series.dropna(),autolag='AIC')     # .dropna() handles differenced data    \n",
    "    labels = ['ADF test statistic','p-value','# lags used','# observations']\n",
    "    out = pd.Series(result[0:4],index=labels)\n",
    "    print(out.to_string())                               # .to_string() removes the line \"dtype: float64\"\n",
    "    \n",
    "    if result[1] <= 0.05:                                # 5% significance\n",
    "        print(\"Data has no unit root and is stationary\")\n",
    "    else:\n",
    "        print(\"Data has a unit root and is non-stationary\")"
   ]
  },
  {
   "cell_type": "code",
   "execution_count": 21,
   "id": "319b6e73",
   "metadata": {},
   "outputs": [
    {
     "name": "stdout",
     "output_type": "stream",
     "text": [
      "Augmented Dickey-Fuller Test: og\n",
      "ADF test statistic     -0.378463\n",
      "p-value                 0.913633\n",
      "# lags used             0.000000\n",
      "# observations        214.000000\n",
      "Data has a unit root and is non-stationary\n"
     ]
    }
   ],
   "source": [
    "adf_test(df['CO2'],'og')"
   ]
  },
  {
   "cell_type": "markdown",
   "id": "1f468e8e",
   "metadata": {},
   "source": [
    "#### Applying differencing to make the time-series stationary"
   ]
  },
  {
   "cell_type": "code",
   "execution_count": 22,
   "id": "12ddbc80",
   "metadata": {},
   "outputs": [],
   "source": [
    "df['sft_1'] = df['CO2'] - df['CO2'].shift(1)\n",
    "df.dropna(inplace=True)"
   ]
  },
  {
   "cell_type": "code",
   "execution_count": 22,
   "id": "417339c6",
   "metadata": {},
   "outputs": [
    {
     "data": {
      "text/plain": [
       "<AxesSubplot:xlabel='Year'>"
      ]
     },
     "execution_count": 22,
     "metadata": {},
     "output_type": "execute_result"
    },
    {
     "data": {
      "image/png": "[encoded data removed]",
      "text/plain": [
       "<Figure size 1296x360 with 1 Axes>"
      ]
     },
     "metadata": {
      "needs_background": "light"
     },
     "output_type": "display_data"
    }
   ],
   "source": [
    "df[['sft_1','CO2']].plot(figsize=(18,5))"
   ]
  },
  {
   "cell_type": "code",
   "execution_count": 23,
   "id": "c0847322",
   "metadata": {},
   "outputs": [
    {
     "name": "stdout",
     "output_type": "stream",
     "text": [
      "Augmented Dickey-Fuller Test: sft_1\n",
      "ADF test statistic     -3.780005\n",
      "p-value                 0.003119\n",
      "# lags used            15.000000\n",
      "# observations        198.000000\n",
      "Data has no unit root and is stationary\n"
     ]
    }
   ],
   "source": [
    "adf_test(df['sft_1'],'sft_1')"
   ]
  },
  {
   "cell_type": "code",
   "execution_count": null,
   "id": "516330bc",
   "metadata": {},
   "outputs": [],
   "source": []
  },
  {
   "cell_type": "code",
   "execution_count": 24,
   "id": "9b6cad79",
   "metadata": {},
   "outputs": [
    {
     "data": {
      "image/png": "[encoded data removed]",
      "text/plain": [
       "<Figure size 432x288 with 1 Axes>"
      ]
     },
     "metadata": {
      "needs_background": "light"
     },
     "output_type": "display_data"
    }
   ],
   "source": [
    "plot_acf(df['sft_1']);"
   ]
  },
  {
   "cell_type": "code",
   "execution_count": 25,
   "id": "5b22081c",
   "metadata": {},
   "outputs": [
    {
     "data": {
      "image/png": "[encoded data removed]",
      "text/plain": [
       "<Figure size 432x288 with 1 Axes>"
      ]
     },
     "metadata": {
      "needs_background": "light"
     },
     "output_type": "display_data"
    }
   ],
   "source": [
    "plot_pacf(df['sft_1'],method='ywm');"
   ]
  },
  {
   "cell_type": "markdown",
   "id": "c51531aa",
   "metadata": {},
   "source": [
    "#### Non Stationary data"
   ]
  },
  {
   "cell_type": "code",
   "execution_count": 26,
   "id": "2a1a50c2",
   "metadata": {},
   "outputs": [
    {
     "data": {
      "image/png": "[encoded data removed]",
      "text/plain": [
       "<Figure size 432x288 with 1 Axes>"
      ]
     },
     "metadata": {
      "needs_background": "light"
     },
     "output_type": "display_data"
    }
   ],
   "source": [
    "plot_acf(df['CO2']);"
   ]
  },
  {
   "cell_type": "code",
   "execution_count": 27,
   "id": "805a7f1f",
   "metadata": {},
   "outputs": [
    {
     "data": {
      "image/png": "[encoded data removed]",
      "text/plain": [
       "<Figure size 432x288 with 1 Axes>"
      ]
     },
     "metadata": {
      "needs_background": "light"
     },
     "output_type": "display_data"
    }
   ],
   "source": [
    "plot_pacf(df['CO2'],method='ywm');"
   ]
  },
  {
   "cell_type": "markdown",
   "id": "f877ff2c",
   "metadata": {},
   "source": [
    "#### Model building"
   ]
  },
  {
   "cell_type": "code",
   "execution_count": 28,
   "id": "e5f212e0",
   "metadata": {},
   "outputs": [],
   "source": [
    "def error_and_plot(test,predictions,title=''):\n",
    "    print(f'Model: {title}')\n",
    "    rmse=sqrt(mean_squared_error(test,predictions))\n",
    "    print(f'Error = {rmse}')\n",
    "    fig = plt.figure(figsize=(12,4))\n",
    "    plt.plot(test, label='Original')\n",
    "    plt.plot(predictions, color='red', label='Prediction')\n",
    "    plt.legend();"
   ]
  },
  {
   "cell_type": "code",
   "execution_count": 29,
   "id": "1bff1ad4",
   "metadata": {},
   "outputs": [
    {
     "data": {
      "text/html": [
       "<table class=\"simpletable\">\n",
       "<caption>SARIMAX Results</caption>\n",
       "<tr>\n",
       "  <th>Dep. Variable:</th>           <td>y</td>        <th>  No. Observations:  </th>    <td>214</td>  \n",
       "</tr>\n",
       "<tr>\n",
       "  <th>Model:</th>           <td>SARIMAX(0, 1, 0)</td> <th>  Log Likelihood     </th> <td>-174.430</td>\n",
       "</tr>\n",
       "<tr>\n",
       "  <th>Date:</th>            <td>Thu, 18 Aug 2022</td> <th>  AIC                </th>  <td>352.861</td>\n",
       "</tr>\n",
       "<tr>\n",
       "  <th>Time:</th>                <td>16:01:46</td>     <th>  BIC                </th>  <td>359.583</td>\n",
       "</tr>\n",
       "<tr>\n",
       "  <th>Sample:</th>                  <td>0</td>        <th>  HQIC               </th>  <td>355.577</td>\n",
       "</tr>\n",
       "<tr>\n",
       "  <th></th>                      <td> - 214</td>      <th>                     </th>     <td> </td>   \n",
       "</tr>\n",
       "<tr>\n",
       "  <th>Covariance Type:</th>        <td>opg</td>       <th>                     </th>     <td> </td>   \n",
       "</tr>\n",
       "</table>\n",
       "<table class=\"simpletable\">\n",
       "<tr>\n",
       "      <td></td>         <th>coef</th>     <th>std err</th>      <th>z</th>      <th>P>|z|</th>  <th>[0.025</th>    <th>0.975]</th>  \n",
       "</tr>\n",
       "<tr>\n",
       "  <th>intercept</th> <td>    0.0709</td> <td>    0.038</td> <td>    1.881</td> <td> 0.060</td> <td>   -0.003</td> <td>    0.145</td>\n",
       "</tr>\n",
       "<tr>\n",
       "  <th>sigma2</th>    <td>    0.3012</td> <td>    0.017</td> <td>   17.301</td> <td> 0.000</td> <td>    0.267</td> <td>    0.335</td>\n",
       "</tr>\n",
       "</table>\n",
       "<table class=\"simpletable\">\n",
       "<tr>\n",
       "  <th>Ljung-Box (L1) (Q):</th>     <td>0.29</td>  <th>  Jarque-Bera (JB):  </th> <td>118.24</td>\n",
       "</tr>\n",
       "<tr>\n",
       "  <th>Prob(Q):</th>                <td>0.59</td>  <th>  Prob(JB):          </th>  <td>0.00</td> \n",
       "</tr>\n",
       "<tr>\n",
       "  <th>Heteroskedasticity (H):</th> <td>56.87</td> <th>  Skew:              </th>  <td>-0.14</td>\n",
       "</tr>\n",
       "<tr>\n",
       "  <th>Prob(H) (two-sided):</th>    <td>0.00</td>  <th>  Kurtosis:          </th>  <td>6.64</td> \n",
       "</tr>\n",
       "</table><br/><br/>Warnings:<br/>[1] Covariance matrix calculated using the outer product of gradients (complex-step)."
      ],
      "text/plain": [
       "<class 'statsmodels.iolib.summary.Summary'>\n",
       "\"\"\"\n",
       "                               SARIMAX Results                                \n",
       "==============================================================================\n",
       "Dep. Variable:                      y   No. Observations:                  214\n",
       "Model:               SARIMAX(0, 1, 0)   Log Likelihood                -174.430\n",
       "Date:                Thu, 18 Aug 2022   AIC                            352.861\n",
       "Time:                        16:01:46   BIC                            359.583\n",
       "Sample:                             0   HQIC                           355.577\n",
       "                                - 214                                         \n",
       "Covariance Type:                  opg                                         \n",
       "==============================================================================\n",
       "                 coef    std err          z      P>|z|      [0.025      0.975]\n",
       "------------------------------------------------------------------------------\n",
       "intercept      0.0709      0.038      1.881      0.060      -0.003       0.145\n",
       "sigma2         0.3012      0.017     17.301      0.000       0.267       0.335\n",
       "===================================================================================\n",
       "Ljung-Box (L1) (Q):                   0.29   Jarque-Bera (JB):               118.24\n",
       "Prob(Q):                              0.59   Prob(JB):                         0.00\n",
       "Heteroskedasticity (H):              56.87   Skew:                            -0.14\n",
       "Prob(H) (two-sided):                  0.00   Kurtosis:                         6.64\n",
       "===================================================================================\n",
       "\n",
       "Warnings:\n",
       "[1] Covariance matrix calculated using the outer product of gradients (complex-step).\n",
       "\"\"\""
      ]
     },
     "execution_count": 29,
     "metadata": {},
     "output_type": "execute_result"
    }
   ],
   "source": [
    "auto_arima(df['CO2'],error_action='ignore',seasonal=False).summary()"
   ]
  },
  {
   "cell_type": "code",
   "execution_count": 30,
   "id": "dbb25ac7",
   "metadata": {},
   "outputs": [],
   "source": [
    "X = df['CO2'].head(204)\n",
    "y = df['CO2'].tail(10)"
   ]
  },
  {
   "cell_type": "markdown",
   "id": "22de83bd",
   "metadata": {},
   "source": [
    "#### SARIMAX(0, 1, 0)"
   ]
  },
  {
   "cell_type": "code",
   "execution_count": 31,
   "id": "2d930d0f",
   "metadata": {},
   "outputs": [
    {
     "name": "stderr",
     "output_type": "stream",
     "text": [
      "C:\\Anaconda\\lib\\site-packages\\statsmodels\\tsa\\base\\tsa_model.py:471: ValueWarning: No frequency information was provided, so inferred frequency AS-JAN will be used.\n",
      "  self._init_dates(dates, freq)\n",
      "C:\\Anaconda\\lib\\site-packages\\statsmodels\\tsa\\base\\tsa_model.py:471: ValueWarning: No frequency information was provided, so inferred frequency AS-JAN will be used.\n",
      "  self._init_dates(dates, freq)\n"
     ]
    },
    {
     "data": {
      "text/html": [
       "<table class=\"simpletable\">\n",
       "<caption>SARIMAX Results</caption>\n",
       "<tr>\n",
       "  <th>Dep. Variable:</th>          <td>CO2</td>       <th>  No. Observations:  </th>    <td>204</td>  \n",
       "</tr>\n",
       "<tr>\n",
       "  <th>Model:</th>           <td>SARIMAX(0, 1, 0)</td> <th>  Log Likelihood     </th> <td>-169.511</td>\n",
       "</tr>\n",
       "<tr>\n",
       "  <th>Date:</th>            <td>Thu, 18 Aug 2022</td> <th>  AIC                </th>  <td>341.021</td>\n",
       "</tr>\n",
       "<tr>\n",
       "  <th>Time:</th>                <td>16:01:46</td>     <th>  BIC                </th>  <td>344.334</td>\n",
       "</tr>\n",
       "<tr>\n",
       "  <th>Sample:</th>             <td>01-01-1801</td>    <th>  HQIC               </th>  <td>342.362</td>\n",
       "</tr>\n",
       "<tr>\n",
       "  <th></th>                   <td>- 01-01-2004</td>   <th>                     </th>     <td> </td>   \n",
       "</tr>\n",
       "<tr>\n",
       "  <th>Covariance Type:</th>        <td>opg</td>       <th>                     </th>     <td> </td>   \n",
       "</tr>\n",
       "</table>\n",
       "<table class=\"simpletable\">\n",
       "<tr>\n",
       "     <td></td>       <th>coef</th>     <th>std err</th>      <th>z</th>      <th>P>|z|</th>  <th>[0.025</th>    <th>0.975]</th>  \n",
       "</tr>\n",
       "<tr>\n",
       "  <th>sigma2</th> <td>    0.3110</td> <td>    0.019</td> <td>   16.706</td> <td> 0.000</td> <td>    0.275</td> <td>    0.348</td>\n",
       "</tr>\n",
       "</table>\n",
       "<table class=\"simpletable\">\n",
       "<tr>\n",
       "  <th>Ljung-Box (L1) (Q):</th>      <td>0.50</td>  <th>  Jarque-Bera (JB):  </th> <td>121.14</td>\n",
       "</tr>\n",
       "<tr>\n",
       "  <th>Prob(Q):</th>                 <td>0.48</td>  <th>  Prob(JB):          </th>  <td>0.00</td> \n",
       "</tr>\n",
       "<tr>\n",
       "  <th>Heteroskedasticity (H):</th> <td>426.26</td> <th>  Skew:              </th>  <td>-0.16</td>\n",
       "</tr>\n",
       "<tr>\n",
       "  <th>Prob(H) (two-sided):</th>     <td>0.00</td>  <th>  Kurtosis:          </th>  <td>6.77</td> \n",
       "</tr>\n",
       "</table><br/><br/>Warnings:<br/>[1] Covariance matrix calculated using the outer product of gradients (complex-step)."
      ],
      "text/plain": [
       "<class 'statsmodels.iolib.summary.Summary'>\n",
       "\"\"\"\n",
       "                               SARIMAX Results                                \n",
       "==============================================================================\n",
       "Dep. Variable:                    CO2   No. Observations:                  204\n",
       "Model:               SARIMAX(0, 1, 0)   Log Likelihood                -169.511\n",
       "Date:                Thu, 18 Aug 2022   AIC                            341.021\n",
       "Time:                        16:01:46   BIC                            344.334\n",
       "Sample:                    01-01-1801   HQIC                           342.362\n",
       "                         - 01-01-2004                                         \n",
       "Covariance Type:                  opg                                         \n",
       "==============================================================================\n",
       "                 coef    std err          z      P>|z|      [0.025      0.975]\n",
       "------------------------------------------------------------------------------\n",
       "sigma2         0.3110      0.019     16.706      0.000       0.275       0.348\n",
       "===================================================================================\n",
       "Ljung-Box (L1) (Q):                   0.50   Jarque-Bera (JB):               121.14\n",
       "Prob(Q):                              0.48   Prob(JB):                         0.00\n",
       "Heteroskedasticity (H):             426.26   Skew:                            -0.16\n",
       "Prob(H) (two-sided):                  0.00   Kurtosis:                         6.77\n",
       "===================================================================================\n",
       "\n",
       "Warnings:\n",
       "[1] Covariance matrix calculated using the outer product of gradients (complex-step).\n",
       "\"\"\""
      ]
     },
     "execution_count": 31,
     "metadata": {},
     "output_type": "execute_result"
    }
   ],
   "source": [
    "model = SARIMAX(X,order=(0, 1, 0))\n",
    "results = model.fit()\n",
    "results.summary()"
   ]
  },
  {
   "cell_type": "code",
   "execution_count": 32,
   "id": "7fec540c",
   "metadata": {},
   "outputs": [],
   "source": [
    "start = len(X)\n",
    "end = len(X) + len(y) - 1"
   ]
  },
  {
   "cell_type": "code",
   "execution_count": 33,
   "id": "4880a12d",
   "metadata": {},
   "outputs": [],
   "source": [
    "predictions_sarima_1 = results.predict(start,end)"
   ]
  },
  {
   "cell_type": "code",
   "execution_count": 34,
   "id": "accbdd07",
   "metadata": {},
   "outputs": [
    {
     "name": "stdout",
     "output_type": "stream",
     "text": [
      "Model: SARIMAX(0, 1, 0)\n",
      "Error = 1.62634559672906\n"
     ]
    },
    {
     "data": {
      "image/png": "[encoded data removed]",
      "text/plain": [
       "<Figure size 864x288 with 1 Axes>"
      ]
     },
     "metadata": {
      "needs_background": "light"
     },
     "output_type": "display_data"
    }
   ],
   "source": [
    "error_and_plot(y,predictions_sarima_1,'SARIMAX(0, 1, 0)')"
   ]
  },
  {
   "cell_type": "markdown",
   "id": "b1017fcc",
   "metadata": {},
   "source": [
    "#### ARIMA(0,1,0)"
   ]
  },
  {
   "cell_type": "code",
   "execution_count": 35,
   "id": "574a5929",
   "metadata": {},
   "outputs": [
    {
     "name": "stderr",
     "output_type": "stream",
     "text": [
      "C:\\Anaconda\\lib\\site-packages\\statsmodels\\tsa\\base\\tsa_model.py:471: ValueWarning: No frequency information was provided, so inferred frequency AS-JAN will be used.\n",
      "  self._init_dates(dates, freq)\n",
      "C:\\Anaconda\\lib\\site-packages\\statsmodels\\tsa\\base\\tsa_model.py:471: ValueWarning: No frequency information was provided, so inferred frequency AS-JAN will be used.\n",
      "  self._init_dates(dates, freq)\n",
      "C:\\Anaconda\\lib\\site-packages\\statsmodels\\tsa\\base\\tsa_model.py:471: ValueWarning: No frequency information was provided, so inferred frequency AS-JAN will be used.\n",
      "  self._init_dates(dates, freq)\n"
     ]
    },
    {
     "data": {
      "text/html": [
       "<table class=\"simpletable\">\n",
       "<caption>SARIMAX Results</caption>\n",
       "<tr>\n",
       "  <th>Dep. Variable:</th>          <td>CO2</td>       <th>  No. Observations:  </th>    <td>204</td>  \n",
       "</tr>\n",
       "<tr>\n",
       "  <th>Model:</th>            <td>ARIMA(0, 1, 0)</td>  <th>  Log Likelihood     </th> <td>-169.511</td>\n",
       "</tr>\n",
       "<tr>\n",
       "  <th>Date:</th>            <td>Thu, 18 Aug 2022</td> <th>  AIC                </th>  <td>341.021</td>\n",
       "</tr>\n",
       "<tr>\n",
       "  <th>Time:</th>                <td>16:01:46</td>     <th>  BIC                </th>  <td>344.334</td>\n",
       "</tr>\n",
       "<tr>\n",
       "  <th>Sample:</th>             <td>01-01-1801</td>    <th>  HQIC               </th>  <td>342.362</td>\n",
       "</tr>\n",
       "<tr>\n",
       "  <th></th>                   <td>- 01-01-2004</td>   <th>                     </th>     <td> </td>   \n",
       "</tr>\n",
       "<tr>\n",
       "  <th>Covariance Type:</th>        <td>opg</td>       <th>                     </th>     <td> </td>   \n",
       "</tr>\n",
       "</table>\n",
       "<table class=\"simpletable\">\n",
       "<tr>\n",
       "     <td></td>       <th>coef</th>     <th>std err</th>      <th>z</th>      <th>P>|z|</th>  <th>[0.025</th>    <th>0.975]</th>  \n",
       "</tr>\n",
       "<tr>\n",
       "  <th>sigma2</th> <td>    0.3110</td> <td>    0.019</td> <td>   16.706</td> <td> 0.000</td> <td>    0.275</td> <td>    0.348</td>\n",
       "</tr>\n",
       "</table>\n",
       "<table class=\"simpletable\">\n",
       "<tr>\n",
       "  <th>Ljung-Box (L1) (Q):</th>      <td>0.50</td>  <th>  Jarque-Bera (JB):  </th> <td>121.14</td>\n",
       "</tr>\n",
       "<tr>\n",
       "  <th>Prob(Q):</th>                 <td>0.48</td>  <th>  Prob(JB):          </th>  <td>0.00</td> \n",
       "</tr>\n",
       "<tr>\n",
       "  <th>Heteroskedasticity (H):</th> <td>426.26</td> <th>  Skew:              </th>  <td>-0.16</td>\n",
       "</tr>\n",
       "<tr>\n",
       "  <th>Prob(H) (two-sided):</th>     <td>0.00</td>  <th>  Kurtosis:          </th>  <td>6.77</td> \n",
       "</tr>\n",
       "</table><br/><br/>Warnings:<br/>[1] Covariance matrix calculated using the outer product of gradients (complex-step)."
      ],
      "text/plain": [
       "<class 'statsmodels.iolib.summary.Summary'>\n",
       "\"\"\"\n",
       "                               SARIMAX Results                                \n",
       "==============================================================================\n",
       "Dep. Variable:                    CO2   No. Observations:                  204\n",
       "Model:                 ARIMA(0, 1, 0)   Log Likelihood                -169.511\n",
       "Date:                Thu, 18 Aug 2022   AIC                            341.021\n",
       "Time:                        16:01:46   BIC                            344.334\n",
       "Sample:                    01-01-1801   HQIC                           342.362\n",
       "                         - 01-01-2004                                         \n",
       "Covariance Type:                  opg                                         \n",
       "==============================================================================\n",
       "                 coef    std err          z      P>|z|      [0.025      0.975]\n",
       "------------------------------------------------------------------------------\n",
       "sigma2         0.3110      0.019     16.706      0.000       0.275       0.348\n",
       "===================================================================================\n",
       "Ljung-Box (L1) (Q):                   0.50   Jarque-Bera (JB):               121.14\n",
       "Prob(Q):                              0.48   Prob(JB):                         0.00\n",
       "Heteroskedasticity (H):             426.26   Skew:                            -0.16\n",
       "Prob(H) (two-sided):                  0.00   Kurtosis:                         6.77\n",
       "===================================================================================\n",
       "\n",
       "Warnings:\n",
       "[1] Covariance matrix calculated using the outer product of gradients (complex-step).\n",
       "\"\"\""
      ]
     },
     "execution_count": 35,
     "metadata": {},
     "output_type": "execute_result"
    }
   ],
   "source": [
    "model_arima = ARIMA(X,order=(0,1,0))\n",
    "results_1 = model_arima.fit()\n",
    "results_1.summary()"
   ]
  },
  {
   "cell_type": "code",
   "execution_count": 36,
   "id": "4a77fec1",
   "metadata": {},
   "outputs": [],
   "source": [
    "start=len(X)\n",
    "end=len(X)+len(y)-1\n",
    "predictions = results_1.predict(start=start, end=end, dynamic=False, typ='levels')"
   ]
  },
  {
   "cell_type": "code",
   "execution_count": 37,
   "id": "7a360f57",
   "metadata": {},
   "outputs": [
    {
     "name": "stdout",
     "output_type": "stream",
     "text": [
      "Model: ARIMA(0, 1, 0)\n",
      "Error = 1.62634559672906\n"
     ]
    },
    {
     "data": {
      "image/png": "[encoded data removed]",
      "text/plain": [
       "<Figure size 864x288 with 1 Axes>"
      ]
     },
     "metadata": {
      "needs_background": "light"
     },
     "output_type": "display_data"
    }
   ],
   "source": [
    "error_and_plot(y,predictions,'ARIMA(0, 1, 0)')"
   ]
  },
  {
   "cell_type": "markdown",
   "id": "b80f49de",
   "metadata": {},
   "source": [
    "#### ARIMA(1,1,0)"
   ]
  },
  {
   "cell_type": "code",
   "execution_count": 38,
   "id": "60724353",
   "metadata": {},
   "outputs": [
    {
     "name": "stderr",
     "output_type": "stream",
     "text": [
      "C:\\Anaconda\\lib\\site-packages\\statsmodels\\tsa\\base\\tsa_model.py:471: ValueWarning: No frequency information was provided, so inferred frequency AS-JAN will be used.\n",
      "  self._init_dates(dates, freq)\n",
      "C:\\Anaconda\\lib\\site-packages\\statsmodels\\tsa\\base\\tsa_model.py:471: ValueWarning: No frequency information was provided, so inferred frequency AS-JAN will be used.\n",
      "  self._init_dates(dates, freq)\n",
      "C:\\Anaconda\\lib\\site-packages\\statsmodels\\tsa\\base\\tsa_model.py:471: ValueWarning: No frequency information was provided, so inferred frequency AS-JAN will be used.\n",
      "  self._init_dates(dates, freq)\n"
     ]
    },
    {
     "data": {
      "text/html": [
       "<table class=\"simpletable\">\n",
       "<caption>SARIMAX Results</caption>\n",
       "<tr>\n",
       "  <th>Dep. Variable:</th>          <td>CO2</td>       <th>  No. Observations:  </th>    <td>204</td>  \n",
       "</tr>\n",
       "<tr>\n",
       "  <th>Model:</th>            <td>ARIMA(1, 1, 0)</td>  <th>  Log Likelihood     </th> <td>-169.450</td>\n",
       "</tr>\n",
       "<tr>\n",
       "  <th>Date:</th>            <td>Thu, 18 Aug 2022</td> <th>  AIC                </th>  <td>342.901</td>\n",
       "</tr>\n",
       "<tr>\n",
       "  <th>Time:</th>                <td>16:01:46</td>     <th>  BIC                </th>  <td>349.527</td>\n",
       "</tr>\n",
       "<tr>\n",
       "  <th>Sample:</th>             <td>01-01-1801</td>    <th>  HQIC               </th>  <td>345.582</td>\n",
       "</tr>\n",
       "<tr>\n",
       "  <th></th>                   <td>- 01-01-2004</td>   <th>                     </th>     <td> </td>   \n",
       "</tr>\n",
       "<tr>\n",
       "  <th>Covariance Type:</th>        <td>opg</td>       <th>                     </th>     <td> </td>   \n",
       "</tr>\n",
       "</table>\n",
       "<table class=\"simpletable\">\n",
       "<tr>\n",
       "     <td></td>       <th>coef</th>     <th>std err</th>      <th>z</th>      <th>P>|z|</th>  <th>[0.025</th>    <th>0.975]</th>  \n",
       "</tr>\n",
       "<tr>\n",
       "  <th>ar.L1</th>  <td>   -0.0244</td> <td>    0.043</td> <td>   -0.561</td> <td> 0.575</td> <td>   -0.110</td> <td>    0.061</td>\n",
       "</tr>\n",
       "<tr>\n",
       "  <th>sigma2</th> <td>    0.3109</td> <td>    0.021</td> <td>   14.928</td> <td> 0.000</td> <td>    0.270</td> <td>    0.352</td>\n",
       "</tr>\n",
       "</table>\n",
       "<table class=\"simpletable\">\n",
       "<tr>\n",
       "  <th>Ljung-Box (L1) (Q):</th>      <td>0.16</td>  <th>  Jarque-Bera (JB):  </th> <td>110.85</td>\n",
       "</tr>\n",
       "<tr>\n",
       "  <th>Prob(Q):</th>                 <td>0.69</td>  <th>  Prob(JB):          </th>  <td>0.00</td> \n",
       "</tr>\n",
       "<tr>\n",
       "  <th>Heteroskedasticity (H):</th> <td>424.58</td> <th>  Skew:              </th>  <td>-0.17</td>\n",
       "</tr>\n",
       "<tr>\n",
       "  <th>Prob(H) (two-sided):</th>     <td>0.00</td>  <th>  Kurtosis:          </th>  <td>6.60</td> \n",
       "</tr>\n",
       "</table><br/><br/>Warnings:<br/>[1] Covariance matrix calculated using the outer product of gradients (complex-step)."
      ],
      "text/plain": [
       "<class 'statsmodels.iolib.summary.Summary'>\n",
       "\"\"\"\n",
       "                               SARIMAX Results                                \n",
       "==============================================================================\n",
       "Dep. Variable:                    CO2   No. Observations:                  204\n",
       "Model:                 ARIMA(1, 1, 0)   Log Likelihood                -169.450\n",
       "Date:                Thu, 18 Aug 2022   AIC                            342.901\n",
       "Time:                        16:01:46   BIC                            349.527\n",
       "Sample:                    01-01-1801   HQIC                           345.582\n",
       "                         - 01-01-2004                                         \n",
       "Covariance Type:                  opg                                         \n",
       "==============================================================================\n",
       "                 coef    std err          z      P>|z|      [0.025      0.975]\n",
       "------------------------------------------------------------------------------\n",
       "ar.L1         -0.0244      0.043     -0.561      0.575      -0.110       0.061\n",
       "sigma2         0.3109      0.021     14.928      0.000       0.270       0.352\n",
       "===================================================================================\n",
       "Ljung-Box (L1) (Q):                   0.16   Jarque-Bera (JB):               110.85\n",
       "Prob(Q):                              0.69   Prob(JB):                         0.00\n",
       "Heteroskedasticity (H):             424.58   Skew:                            -0.17\n",
       "Prob(H) (two-sided):                  0.00   Kurtosis:                         6.60\n",
       "===================================================================================\n",
       "\n",
       "Warnings:\n",
       "[1] Covariance matrix calculated using the outer product of gradients (complex-step).\n",
       "\"\"\""
      ]
     },
     "execution_count": 38,
     "metadata": {},
     "output_type": "execute_result"
    }
   ],
   "source": [
    "model_arima_1 = ARIMA(X,order=(1,1,0))\n",
    "results_2 = model_arima_1.fit()\n",
    "results_2.summary()"
   ]
  },
  {
   "cell_type": "code",
   "execution_count": 39,
   "id": "db9c9daf",
   "metadata": {},
   "outputs": [],
   "source": [
    "start=len(X)\n",
    "end=len(X)+len(y)-1\n",
    "predictions = results_2.predict(start=start, end=end, dynamic=False, typ='levels')"
   ]
  },
  {
   "cell_type": "code",
   "execution_count": 40,
   "id": "a199a6d9",
   "metadata": {},
   "outputs": [
    {
     "data": {
      "text/plain": [
       "2005-01-01    17.304878\n",
       "2006-01-01    17.304759\n",
       "2007-01-01    17.304762\n",
       "2008-01-01    17.304761\n",
       "2009-01-01    17.304761\n",
       "2010-01-01    17.304761\n",
       "2011-01-01    17.304761\n",
       "2012-01-01    17.304761\n",
       "2013-01-01    17.304761\n",
       "2014-01-01    17.304761\n",
       "Freq: AS-JAN, Name: predicted_mean, dtype: float64"
      ]
     },
     "execution_count": 40,
     "metadata": {},
     "output_type": "execute_result"
    }
   ],
   "source": [
    "predictions"
   ]
  },
  {
   "cell_type": "code",
   "execution_count": 41,
   "id": "773b60dc",
   "metadata": {},
   "outputs": [
    {
     "name": "stdout",
     "output_type": "stream",
     "text": [
      "Model: ARIMA(1, 1, 0)\n",
      "Error = 1.630358502446109\n"
     ]
    },
    {
     "data": {
      "image/png": "[encoded data removed]",
      "text/plain": [
       "<Figure size 864x288 with 1 Axes>"
      ]
     },
     "metadata": {
      "needs_background": "light"
     },
     "output_type": "display_data"
    }
   ],
   "source": [
    "error_and_plot(y,predictions,'ARIMA(1, 1, 0)')"
   ]
  },
  {
   "cell_type": "markdown",
   "id": "989d398b",
   "metadata": {},
   "source": [
    "#### ARIMA (15,1,0)"
   ]
  },
  {
   "cell_type": "code",
   "execution_count": 42,
   "id": "401365c4",
   "metadata": {},
   "outputs": [
    {
     "name": "stderr",
     "output_type": "stream",
     "text": [
      "C:\\Anaconda\\lib\\site-packages\\statsmodels\\tsa\\base\\tsa_model.py:471: ValueWarning: No frequency information was provided, so inferred frequency AS-JAN will be used.\n",
      "  self._init_dates(dates, freq)\n",
      "C:\\Anaconda\\lib\\site-packages\\statsmodels\\tsa\\base\\tsa_model.py:471: ValueWarning: No frequency information was provided, so inferred frequency AS-JAN will be used.\n",
      "  self._init_dates(dates, freq)\n",
      "C:\\Anaconda\\lib\\site-packages\\statsmodels\\tsa\\base\\tsa_model.py:471: ValueWarning: No frequency information was provided, so inferred frequency AS-JAN will be used.\n",
      "  self._init_dates(dates, freq)\n"
     ]
    },
    {
     "data": {
      "text/html": [
       "<table class=\"simpletable\">\n",
       "<caption>SARIMAX Results</caption>\n",
       "<tr>\n",
       "  <th>Dep. Variable:</th>          <td>CO2</td>       <th>  No. Observations:  </th>    <td>204</td>  \n",
       "</tr>\n",
       "<tr>\n",
       "  <th>Model:</th>            <td>ARIMA(15, 1, 0)</td> <th>  Log Likelihood     </th> <td>-155.458</td>\n",
       "</tr>\n",
       "<tr>\n",
       "  <th>Date:</th>            <td>Thu, 18 Aug 2022</td> <th>  AIC                </th>  <td>342.916</td>\n",
       "</tr>\n",
       "<tr>\n",
       "  <th>Time:</th>                <td>16:01:46</td>     <th>  BIC                </th>  <td>395.927</td>\n",
       "</tr>\n",
       "<tr>\n",
       "  <th>Sample:</th>             <td>01-01-1801</td>    <th>  HQIC               </th>  <td>364.362</td>\n",
       "</tr>\n",
       "<tr>\n",
       "  <th></th>                   <td>- 01-01-2004</td>   <th>                     </th>     <td> </td>   \n",
       "</tr>\n",
       "<tr>\n",
       "  <th>Covariance Type:</th>        <td>opg</td>       <th>                     </th>     <td> </td>   \n",
       "</tr>\n",
       "</table>\n",
       "<table class=\"simpletable\">\n",
       "<tr>\n",
       "     <td></td>       <th>coef</th>     <th>std err</th>      <th>z</th>      <th>P>|z|</th>  <th>[0.025</th>    <th>0.975]</th>  \n",
       "</tr>\n",
       "<tr>\n",
       "  <th>ar.L1</th>  <td>   -0.0262</td> <td>    0.053</td> <td>   -0.498</td> <td> 0.619</td> <td>   -0.129</td> <td>    0.077</td>\n",
       "</tr>\n",
       "<tr>\n",
       "  <th>ar.L2</th>  <td>   -0.1105</td> <td>    0.050</td> <td>   -2.209</td> <td> 0.027</td> <td>   -0.209</td> <td>   -0.012</td>\n",
       "</tr>\n",
       "<tr>\n",
       "  <th>ar.L3</th>  <td>    0.0747</td> <td>    0.052</td> <td>    1.429</td> <td> 0.153</td> <td>   -0.028</td> <td>    0.177</td>\n",
       "</tr>\n",
       "<tr>\n",
       "  <th>ar.L4</th>  <td>   -0.0291</td> <td>    0.053</td> <td>   -0.552</td> <td> 0.581</td> <td>   -0.133</td> <td>    0.074</td>\n",
       "</tr>\n",
       "<tr>\n",
       "  <th>ar.L5</th>  <td>    0.1744</td> <td>    0.054</td> <td>    3.246</td> <td> 0.001</td> <td>    0.069</td> <td>    0.280</td>\n",
       "</tr>\n",
       "<tr>\n",
       "  <th>ar.L6</th>  <td>    0.1042</td> <td>    0.061</td> <td>    1.715</td> <td> 0.086</td> <td>   -0.015</td> <td>    0.223</td>\n",
       "</tr>\n",
       "<tr>\n",
       "  <th>ar.L7</th>  <td>    0.1341</td> <td>    0.057</td> <td>    2.347</td> <td> 0.019</td> <td>    0.022</td> <td>    0.246</td>\n",
       "</tr>\n",
       "<tr>\n",
       "  <th>ar.L8</th>  <td>   -0.0181</td> <td>    0.051</td> <td>   -0.352</td> <td> 0.725</td> <td>   -0.119</td> <td>    0.083</td>\n",
       "</tr>\n",
       "<tr>\n",
       "  <th>ar.L9</th>  <td>    0.0138</td> <td>    0.049</td> <td>    0.279</td> <td> 0.780</td> <td>   -0.083</td> <td>    0.111</td>\n",
       "</tr>\n",
       "<tr>\n",
       "  <th>ar.L10</th> <td>    0.0707</td> <td>    0.057</td> <td>    1.231</td> <td> 0.218</td> <td>   -0.042</td> <td>    0.183</td>\n",
       "</tr>\n",
       "<tr>\n",
       "  <th>ar.L11</th> <td>   -0.0537</td> <td>    0.054</td> <td>   -0.989</td> <td> 0.323</td> <td>   -0.160</td> <td>    0.053</td>\n",
       "</tr>\n",
       "<tr>\n",
       "  <th>ar.L12</th> <td>   -0.0555</td> <td>    0.071</td> <td>   -0.783</td> <td> 0.434</td> <td>   -0.194</td> <td>    0.083</td>\n",
       "</tr>\n",
       "<tr>\n",
       "  <th>ar.L13</th> <td>   -0.0509</td> <td>    0.066</td> <td>   -0.777</td> <td> 0.437</td> <td>   -0.179</td> <td>    0.078</td>\n",
       "</tr>\n",
       "<tr>\n",
       "  <th>ar.L14</th> <td>    0.0340</td> <td>    0.056</td> <td>    0.605</td> <td> 0.545</td> <td>   -0.076</td> <td>    0.144</td>\n",
       "</tr>\n",
       "<tr>\n",
       "  <th>ar.L15</th> <td>   -0.2332</td> <td>    0.056</td> <td>   -4.170</td> <td> 0.000</td> <td>   -0.343</td> <td>   -0.124</td>\n",
       "</tr>\n",
       "<tr>\n",
       "  <th>sigma2</th> <td>    0.2690</td> <td>    0.024</td> <td>   11.424</td> <td> 0.000</td> <td>    0.223</td> <td>    0.315</td>\n",
       "</tr>\n",
       "</table>\n",
       "<table class=\"simpletable\">\n",
       "<tr>\n",
       "  <th>Ljung-Box (L1) (Q):</th>      <td>0.05</td>  <th>  Jarque-Bera (JB):  </th> <td>34.12</td>\n",
       "</tr>\n",
       "<tr>\n",
       "  <th>Prob(Q):</th>                 <td>0.82</td>  <th>  Prob(JB):          </th> <td>0.00</td> \n",
       "</tr>\n",
       "<tr>\n",
       "  <th>Heteroskedasticity (H):</th> <td>400.45</td> <th>  Skew:              </th> <td>-0.18</td>\n",
       "</tr>\n",
       "<tr>\n",
       "  <th>Prob(H) (two-sided):</th>     <td>0.00</td>  <th>  Kurtosis:          </th> <td>4.98</td> \n",
       "</tr>\n",
       "</table><br/><br/>Warnings:<br/>[1] Covariance matrix calculated using the outer product of gradients (complex-step)."
      ],
      "text/plain": [
       "<class 'statsmodels.iolib.summary.Summary'>\n",
       "\"\"\"\n",
       "                               SARIMAX Results                                \n",
       "==============================================================================\n",
       "Dep. Variable:                    CO2   No. Observations:                  204\n",
       "Model:                ARIMA(15, 1, 0)   Log Likelihood                -155.458\n",
       "Date:                Thu, 18 Aug 2022   AIC                            342.916\n",
       "Time:                        16:01:46   BIC                            395.927\n",
       "Sample:                    01-01-1801   HQIC                           364.362\n",
       "                         - 01-01-2004                                         \n",
       "Covariance Type:                  opg                                         \n",
       "==============================================================================\n",
       "                 coef    std err          z      P>|z|      [0.025      0.975]\n",
       "------------------------------------------------------------------------------\n",
       "ar.L1         -0.0262      0.053     -0.498      0.619      -0.129       0.077\n",
       "ar.L2         -0.1105      0.050     -2.209      0.027      -0.209      -0.012\n",
       "ar.L3          0.0747      0.052      1.429      0.153      -0.028       0.177\n",
       "ar.L4         -0.0291      0.053     -0.552      0.581      -0.133       0.074\n",
       "ar.L5          0.1744      0.054      3.246      0.001       0.069       0.280\n",
       "ar.L6          0.1042      0.061      1.715      0.086      -0.015       0.223\n",
       "ar.L7          0.1341      0.057      2.347      0.019       0.022       0.246\n",
       "ar.L8         -0.0181      0.051     -0.352      0.725      -0.119       0.083\n",
       "ar.L9          0.0138      0.049      0.279      0.780      -0.083       0.111\n",
       "ar.L10         0.0707      0.057      1.231      0.218      -0.042       0.183\n",
       "ar.L11        -0.0537      0.054     -0.989      0.323      -0.160       0.053\n",
       "ar.L12        -0.0555      0.071     -0.783      0.434      -0.194       0.083\n",
       "ar.L13        -0.0509      0.066     -0.777      0.437      -0.179       0.078\n",
       "ar.L14         0.0340      0.056      0.605      0.545      -0.076       0.144\n",
       "ar.L15        -0.2332      0.056     -4.170      0.000      -0.343      -0.124\n",
       "sigma2         0.2690      0.024     11.424      0.000       0.223       0.315\n",
       "===================================================================================\n",
       "Ljung-Box (L1) (Q):                   0.05   Jarque-Bera (JB):                34.12\n",
       "Prob(Q):                              0.82   Prob(JB):                         0.00\n",
       "Heteroskedasticity (H):             400.45   Skew:                            -0.18\n",
       "Prob(H) (two-sided):                  0.00   Kurtosis:                         4.98\n",
       "===================================================================================\n",
       "\n",
       "Warnings:\n",
       "[1] Covariance matrix calculated using the outer product of gradients (complex-step).\n",
       "\"\"\""
      ]
     },
     "execution_count": 42,
     "metadata": {},
     "output_type": "execute_result"
    }
   ],
   "source": [
    "model_arima_2 = ARIMA(X,order=(15,1,0))\n",
    "results_3 = model_arima_2.fit()\n",
    "results_3.summary()"
   ]
  },
  {
   "cell_type": "code",
   "execution_count": 43,
   "id": "61748744",
   "metadata": {},
   "outputs": [],
   "source": [
    "start=len(X)\n",
    "end=len(X)+len(y)-1\n",
    "predictions = results_3.predict(start=start, end=end, dynamic=False, typ='levels')"
   ]
  },
  {
   "cell_type": "code",
   "execution_count": 44,
   "id": "7c62aa70",
   "metadata": {},
   "outputs": [
    {
     "name": "stdout",
     "output_type": "stream",
     "text": [
      "Model: ARIMA(15, 1, 0)\n",
      "Error = 1.8745056259639792\n"
     ]
    },
    {
     "data": {
      "image/png": "[encoded data removed]",
      "text/plain": [
       "<Figure size 864x288 with 1 Axes>"
      ]
     },
     "metadata": {
      "needs_background": "light"
     },
     "output_type": "display_data"
    }
   ],
   "source": [
    "error_and_plot(y,predictions,'ARIMA(15, 1, 0)')"
   ]
  },
  {
   "cell_type": "markdown",
   "id": "2a0b68c6",
   "metadata": {},
   "source": [
    "### ARMA model with Stationary data"
   ]
  },
  {
   "cell_type": "code",
   "execution_count": 45,
   "id": "2638f051",
   "metadata": {},
   "outputs": [],
   "source": [
    "X = df['sft_1'].iloc[:200]\n",
    "y = df['sft_1'].iloc[200:]"
   ]
  },
  {
   "cell_type": "code",
   "execution_count": 46,
   "id": "45fb7da4",
   "metadata": {},
   "outputs": [
    {
     "name": "stderr",
     "output_type": "stream",
     "text": [
      "C:\\Anaconda\\lib\\site-packages\\statsmodels\\tsa\\base\\tsa_model.py:471: ValueWarning: No frequency information was provided, so inferred frequency AS-JAN will be used.\n",
      "  self._init_dates(dates, freq)\n",
      "C:\\Anaconda\\lib\\site-packages\\statsmodels\\tsa\\base\\tsa_model.py:471: ValueWarning: No frequency information was provided, so inferred frequency AS-JAN will be used.\n",
      "  self._init_dates(dates, freq)\n",
      "C:\\Anaconda\\lib\\site-packages\\statsmodels\\tsa\\base\\tsa_model.py:471: ValueWarning: No frequency information was provided, so inferred frequency AS-JAN will be used.\n",
      "  self._init_dates(dates, freq)\n",
      "C:\\Anaconda\\lib\\site-packages\\statsmodels\\base\\model.py:604: ConvergenceWarning: Maximum Likelihood optimization failed to converge. Check mle_retvals\n",
      "  warnings.warn(\"Maximum Likelihood optimization failed to \"\n"
     ]
    },
    {
     "data": {
      "text/html": [
       "<table class=\"simpletable\">\n",
       "<caption>SARIMAX Results</caption>\n",
       "<tr>\n",
       "  <th>Dep. Variable:</th>         <td>sft_1</td>      <th>  No. Observations:  </th>    <td>200</td>  \n",
       "</tr>\n",
       "<tr>\n",
       "  <th>Model:</th>           <td>ARIMA(15, 0, 15)</td> <th>  Log Likelihood     </th> <td>-131.869</td>\n",
       "</tr>\n",
       "<tr>\n",
       "  <th>Date:</th>            <td>Thu, 18 Aug 2022</td> <th>  AIC                </th>  <td>327.738</td>\n",
       "</tr>\n",
       "<tr>\n",
       "  <th>Time:</th>                <td>16:01:49</td>     <th>  BIC                </th>  <td>433.284</td>\n",
       "</tr>\n",
       "<tr>\n",
       "  <th>Sample:</th>             <td>01-01-1801</td>    <th>  HQIC               </th>  <td>370.451</td>\n",
       "</tr>\n",
       "<tr>\n",
       "  <th></th>                   <td>- 01-01-2000</td>   <th>                     </th>     <td> </td>   \n",
       "</tr>\n",
       "<tr>\n",
       "  <th>Covariance Type:</th>        <td>opg</td>       <th>                     </th>     <td> </td>   \n",
       "</tr>\n",
       "</table>\n",
       "<table class=\"simpletable\">\n",
       "<tr>\n",
       "     <td></td>       <th>coef</th>     <th>std err</th>      <th>z</th>      <th>P>|z|</th>  <th>[0.025</th>    <th>0.975]</th>  \n",
       "</tr>\n",
       "<tr>\n",
       "  <th>const</th>  <td>    0.0879</td> <td>    0.048</td> <td>    1.838</td> <td> 0.066</td> <td>   -0.006</td> <td>    0.182</td>\n",
       "</tr>\n",
       "<tr>\n",
       "  <th>ar.L1</th>  <td>   -0.0712</td> <td>    0.555</td> <td>   -0.128</td> <td> 0.898</td> <td>   -1.159</td> <td>    1.017</td>\n",
       "</tr>\n",
       "<tr>\n",
       "  <th>ar.L2</th>  <td>   -0.0263</td> <td>    0.282</td> <td>   -0.093</td> <td> 0.926</td> <td>   -0.579</td> <td>    0.527</td>\n",
       "</tr>\n",
       "<tr>\n",
       "  <th>ar.L3</th>  <td>    0.2279</td> <td>    0.242</td> <td>    0.942</td> <td> 0.346</td> <td>   -0.246</td> <td>    0.702</td>\n",
       "</tr>\n",
       "<tr>\n",
       "  <th>ar.L4</th>  <td>   -0.2800</td> <td>    0.447</td> <td>   -0.626</td> <td> 0.531</td> <td>   -1.156</td> <td>    0.596</td>\n",
       "</tr>\n",
       "<tr>\n",
       "  <th>ar.L5</th>  <td>   -0.0843</td> <td>    0.364</td> <td>   -0.231</td> <td> 0.817</td> <td>   -0.798</td> <td>    0.629</td>\n",
       "</tr>\n",
       "<tr>\n",
       "  <th>ar.L6</th>  <td>    0.2030</td> <td>    0.198</td> <td>    1.023</td> <td> 0.306</td> <td>   -0.186</td> <td>    0.592</td>\n",
       "</tr>\n",
       "<tr>\n",
       "  <th>ar.L7</th>  <td>    0.3082</td> <td>    0.236</td> <td>    1.305</td> <td> 0.192</td> <td>   -0.155</td> <td>    0.771</td>\n",
       "</tr>\n",
       "<tr>\n",
       "  <th>ar.L8</th>  <td>    0.0064</td> <td>    0.312</td> <td>    0.020</td> <td> 0.984</td> <td>   -0.605</td> <td>    0.618</td>\n",
       "</tr>\n",
       "<tr>\n",
       "  <th>ar.L9</th>  <td>   -0.1370</td> <td>    0.207</td> <td>   -0.663</td> <td> 0.507</td> <td>   -0.542</td> <td>    0.268</td>\n",
       "</tr>\n",
       "<tr>\n",
       "  <th>ar.L10</th> <td>   -0.2742</td> <td>    0.253</td> <td>   -1.085</td> <td> 0.278</td> <td>   -0.770</td> <td>    0.221</td>\n",
       "</tr>\n",
       "<tr>\n",
       "  <th>ar.L11</th> <td>    0.2059</td> <td>    0.265</td> <td>    0.776</td> <td> 0.438</td> <td>   -0.314</td> <td>    0.726</td>\n",
       "</tr>\n",
       "<tr>\n",
       "  <th>ar.L12</th> <td>   -0.1743</td> <td>    0.228</td> <td>   -0.763</td> <td> 0.445</td> <td>   -0.622</td> <td>    0.273</td>\n",
       "</tr>\n",
       "<tr>\n",
       "  <th>ar.L13</th> <td>   -0.2135</td> <td>    0.185</td> <td>   -1.154</td> <td> 0.249</td> <td>   -0.576</td> <td>    0.149</td>\n",
       "</tr>\n",
       "<tr>\n",
       "  <th>ar.L14</th> <td>   -0.2634</td> <td>    0.165</td> <td>   -1.595</td> <td> 0.111</td> <td>   -0.587</td> <td>    0.060</td>\n",
       "</tr>\n",
       "<tr>\n",
       "  <th>ar.L15</th> <td>   -0.3170</td> <td>    0.268</td> <td>   -1.182</td> <td> 0.237</td> <td>   -0.843</td> <td>    0.209</td>\n",
       "</tr>\n",
       "<tr>\n",
       "  <th>ma.L1</th>  <td>    0.0874</td> <td>    0.549</td> <td>    0.159</td> <td> 0.874</td> <td>   -0.989</td> <td>    1.164</td>\n",
       "</tr>\n",
       "<tr>\n",
       "  <th>ma.L2</th>  <td>   -0.0486</td> <td>    0.441</td> <td>   -0.110</td> <td> 0.912</td> <td>   -0.913</td> <td>    0.815</td>\n",
       "</tr>\n",
       "<tr>\n",
       "  <th>ma.L3</th>  <td>   -0.2845</td> <td>    0.299</td> <td>   -0.952</td> <td> 0.341</td> <td>   -0.870</td> <td>    0.301</td>\n",
       "</tr>\n",
       "<tr>\n",
       "  <th>ma.L4</th>  <td>    0.2197</td> <td>    0.449</td> <td>    0.490</td> <td> 0.624</td> <td>   -0.659</td> <td>    1.099</td>\n",
       "</tr>\n",
       "<tr>\n",
       "  <th>ma.L5</th>  <td>    0.3225</td> <td>    0.344</td> <td>    0.937</td> <td> 0.349</td> <td>   -0.352</td> <td>    0.997</td>\n",
       "</tr>\n",
       "<tr>\n",
       "  <th>ma.L6</th>  <td>   -0.0749</td> <td>    0.465</td> <td>   -0.161</td> <td> 0.872</td> <td>   -0.987</td> <td>    0.837</td>\n",
       "</tr>\n",
       "<tr>\n",
       "  <th>ma.L7</th>  <td>   -0.2421</td> <td>    0.324</td> <td>   -0.747</td> <td> 0.455</td> <td>   -0.877</td> <td>    0.393</td>\n",
       "</tr>\n",
       "<tr>\n",
       "  <th>ma.L8</th>  <td>   -0.1731</td> <td>    0.462</td> <td>   -0.374</td> <td> 0.708</td> <td>   -1.079</td> <td>    0.733</td>\n",
       "</tr>\n",
       "<tr>\n",
       "  <th>ma.L9</th>  <td>    0.1766</td> <td>    0.301</td> <td>    0.586</td> <td> 0.558</td> <td>   -0.414</td> <td>    0.767</td>\n",
       "</tr>\n",
       "<tr>\n",
       "  <th>ma.L10</th> <td>    0.5755</td> <td>    0.432</td> <td>    1.332</td> <td> 0.183</td> <td>   -0.271</td> <td>    1.422</td>\n",
       "</tr>\n",
       "<tr>\n",
       "  <th>ma.L11</th> <td>   -0.3951</td> <td>    0.468</td> <td>   -0.845</td> <td> 0.398</td> <td>   -1.312</td> <td>    0.522</td>\n",
       "</tr>\n",
       "<tr>\n",
       "  <th>ma.L12</th> <td>    0.0010</td> <td>    0.337</td> <td>    0.003</td> <td> 0.998</td> <td>   -0.659</td> <td>    0.661</td>\n",
       "</tr>\n",
       "<tr>\n",
       "  <th>ma.L13</th> <td>    0.2042</td> <td>    0.224</td> <td>    0.911</td> <td> 0.362</td> <td>   -0.235</td> <td>    0.643</td>\n",
       "</tr>\n",
       "<tr>\n",
       "  <th>ma.L14</th> <td>    0.4205</td> <td>    0.286</td> <td>    1.471</td> <td> 0.141</td> <td>   -0.140</td> <td>    0.981</td>\n",
       "</tr>\n",
       "<tr>\n",
       "  <th>ma.L15</th> <td>    0.1549</td> <td>    0.432</td> <td>    0.359</td> <td> 0.720</td> <td>   -0.691</td> <td>    1.001</td>\n",
       "</tr>\n",
       "<tr>\n",
       "  <th>sigma2</th> <td>    0.2052</td> <td>    0.074</td> <td>    2.774</td> <td> 0.006</td> <td>    0.060</td> <td>    0.350</td>\n",
       "</tr>\n",
       "</table>\n",
       "<table class=\"simpletable\">\n",
       "<tr>\n",
       "  <th>Ljung-Box (L1) (Q):</th>     <td>0.00</td>  <th>  Jarque-Bera (JB):  </th> <td>25.79</td>\n",
       "</tr>\n",
       "<tr>\n",
       "  <th>Prob(Q):</th>                <td>0.95</td>  <th>  Prob(JB):          </th> <td>0.00</td> \n",
       "</tr>\n",
       "<tr>\n",
       "  <th>Heteroskedasticity (H):</th> <td>35.63</td> <th>  Skew:              </th> <td>0.05</td> \n",
       "</tr>\n",
       "<tr>\n",
       "  <th>Prob(H) (two-sided):</th>    <td>0.00</td>  <th>  Kurtosis:          </th> <td>4.76</td> \n",
       "</tr>\n",
       "</table><br/><br/>Warnings:<br/>[1] Covariance matrix calculated using the outer product of gradients (complex-step)."
      ],
      "text/plain": [
       "<class 'statsmodels.iolib.summary.Summary'>\n",
       "\"\"\"\n",
       "                               SARIMAX Results                                \n",
       "==============================================================================\n",
       "Dep. Variable:                  sft_1   No. Observations:                  200\n",
       "Model:               ARIMA(15, 0, 15)   Log Likelihood                -131.869\n",
       "Date:                Thu, 18 Aug 2022   AIC                            327.738\n",
       "Time:                        16:01:49   BIC                            433.284\n",
       "Sample:                    01-01-1801   HQIC                           370.451\n",
       "                         - 01-01-2000                                         \n",
       "Covariance Type:                  opg                                         \n",
       "==============================================================================\n",
       "                 coef    std err          z      P>|z|      [0.025      0.975]\n",
       "------------------------------------------------------------------------------\n",
       "const          0.0879      0.048      1.838      0.066      -0.006       0.182\n",
       "ar.L1         -0.0712      0.555     -0.128      0.898      -1.159       1.017\n",
       "ar.L2         -0.0263      0.282     -0.093      0.926      -0.579       0.527\n",
       "ar.L3          0.2279      0.242      0.942      0.346      -0.246       0.702\n",
       "ar.L4         -0.2800      0.447     -0.626      0.531      -1.156       0.596\n",
       "ar.L5         -0.0843      0.364     -0.231      0.817      -0.798       0.629\n",
       "ar.L6          0.2030      0.198      1.023      0.306      -0.186       0.592\n",
       "ar.L7          0.3082      0.236      1.305      0.192      -0.155       0.771\n",
       "ar.L8          0.0064      0.312      0.020      0.984      -0.605       0.618\n",
       "ar.L9         -0.1370      0.207     -0.663      0.507      -0.542       0.268\n",
       "ar.L10        -0.2742      0.253     -1.085      0.278      -0.770       0.221\n",
       "ar.L11         0.2059      0.265      0.776      0.438      -0.314       0.726\n",
       "ar.L12        -0.1743      0.228     -0.763      0.445      -0.622       0.273\n",
       "ar.L13        -0.2135      0.185     -1.154      0.249      -0.576       0.149\n",
       "ar.L14        -0.2634      0.165     -1.595      0.111      -0.587       0.060\n",
       "ar.L15        -0.3170      0.268     -1.182      0.237      -0.843       0.209\n",
       "ma.L1          0.0874      0.549      0.159      0.874      -0.989       1.164\n",
       "ma.L2         -0.0486      0.441     -0.110      0.912      -0.913       0.815\n",
       "ma.L3         -0.2845      0.299     -0.952      0.341      -0.870       0.301\n",
       "ma.L4          0.2197      0.449      0.490      0.624      -0.659       1.099\n",
       "ma.L5          0.3225      0.344      0.937      0.349      -0.352       0.997\n",
       "ma.L6         -0.0749      0.465     -0.161      0.872      -0.987       0.837\n",
       "ma.L7         -0.2421      0.324     -0.747      0.455      -0.877       0.393\n",
       "ma.L8         -0.1731      0.462     -0.374      0.708      -1.079       0.733\n",
       "ma.L9          0.1766      0.301      0.586      0.558      -0.414       0.767\n",
       "ma.L10         0.5755      0.432      1.332      0.183      -0.271       1.422\n",
       "ma.L11        -0.3951      0.468     -0.845      0.398      -1.312       0.522\n",
       "ma.L12         0.0010      0.337      0.003      0.998      -0.659       0.661\n",
       "ma.L13         0.2042      0.224      0.911      0.362      -0.235       0.643\n",
       "ma.L14         0.4205      0.286      1.471      0.141      -0.140       0.981\n",
       "ma.L15         0.1549      0.432      0.359      0.720      -0.691       1.001\n",
       "sigma2         0.2052      0.074      2.774      0.006       0.060       0.350\n",
       "===================================================================================\n",
       "Ljung-Box (L1) (Q):                   0.00   Jarque-Bera (JB):                25.79\n",
       "Prob(Q):                              0.95   Prob(JB):                         0.00\n",
       "Heteroskedasticity (H):              35.63   Skew:                             0.05\n",
       "Prob(H) (two-sided):                  0.00   Kurtosis:                         4.76\n",
       "===================================================================================\n",
       "\n",
       "Warnings:\n",
       "[1] Covariance matrix calculated using the outer product of gradients (complex-step).\n",
       "\"\"\""
      ]
     },
     "execution_count": 46,
     "metadata": {},
     "output_type": "execute_result"
    }
   ],
   "source": [
    "model_st = ARIMA(X,order=(15,0,15))\n",
    "results_st = model_st.fit()\n",
    "results_st.summary()"
   ]
  },
  {
   "cell_type": "code",
   "execution_count": 47,
   "id": "fcbe86ac",
   "metadata": {},
   "outputs": [],
   "source": [
    "start=len(X)\n",
    "end=len(X)+len(y)-1\n",
    "predictions = results_st.predict(start=start, end=end, dynamic=False, typ='levels')"
   ]
  },
  {
   "cell_type": "code",
   "execution_count": 48,
   "id": "82d346a6",
   "metadata": {},
   "outputs": [
    {
     "name": "stdout",
     "output_type": "stream",
     "text": [
      "Model: ARMA(15,0,15)\n",
      "Error = 0.6711330376170662\n"
     ]
    },
    {
     "data": {
      "image/png": "[encoded data removed]",
      "text/plain": [
       "<Figure size 864x288 with 1 Axes>"
      ]
     },
     "metadata": {
      "needs_background": "light"
     },
     "output_type": "display_data"
    }
   ],
   "source": [
    "error_and_plot(y,predictions,'ARMA(15,0,15)')"
   ]
  },
  {
   "cell_type": "markdown",
   "id": "3f1b2c15",
   "metadata": {},
   "source": [
    "##### AR (15) "
   ]
  },
  {
   "cell_type": "code",
   "execution_count": 49,
   "id": "804bcec3",
   "metadata": {},
   "outputs": [
    {
     "name": "stderr",
     "output_type": "stream",
     "text": [
      "C:\\Anaconda\\lib\\site-packages\\statsmodels\\tsa\\base\\tsa_model.py:471: ValueWarning: No frequency information was provided, so inferred frequency AS-JAN will be used.\n",
      "  self._init_dates(dates, freq)\n",
      "C:\\Anaconda\\lib\\site-packages\\statsmodels\\tsa\\base\\tsa_model.py:471: ValueWarning: No frequency information was provided, so inferred frequency AS-JAN will be used.\n",
      "  self._init_dates(dates, freq)\n",
      "C:\\Anaconda\\lib\\site-packages\\statsmodels\\tsa\\base\\tsa_model.py:471: ValueWarning: No frequency information was provided, so inferred frequency AS-JAN will be used.\n",
      "  self._init_dates(dates, freq)\n"
     ]
    },
    {
     "data": {
      "text/html": [
       "<table class=\"simpletable\">\n",
       "<caption>SARIMAX Results</caption>\n",
       "<tr>\n",
       "  <th>Dep. Variable:</th>         <td>sft_1</td>      <th>  No. Observations:  </th>    <td>200</td>  \n",
       "</tr>\n",
       "<tr>\n",
       "  <th>Model:</th>            <td>ARIMA(15, 0, 0)</td> <th>  Log Likelihood     </th> <td>-148.127</td>\n",
       "</tr>\n",
       "<tr>\n",
       "  <th>Date:</th>            <td>Thu, 18 Aug 2022</td> <th>  AIC                </th>  <td>330.254</td>\n",
       "</tr>\n",
       "<tr>\n",
       "  <th>Time:</th>                <td>16:01:50</td>     <th>  BIC                </th>  <td>386.326</td>\n",
       "</tr>\n",
       "<tr>\n",
       "  <th>Sample:</th>             <td>01-01-1801</td>    <th>  HQIC               </th>  <td>352.945</td>\n",
       "</tr>\n",
       "<tr>\n",
       "  <th></th>                   <td>- 01-01-2000</td>   <th>                     </th>     <td> </td>   \n",
       "</tr>\n",
       "<tr>\n",
       "  <th>Covariance Type:</th>        <td>opg</td>       <th>                     </th>     <td> </td>   \n",
       "</tr>\n",
       "</table>\n",
       "<table class=\"simpletable\">\n",
       "<tr>\n",
       "     <td></td>       <th>coef</th>     <th>std err</th>      <th>z</th>      <th>P>|z|</th>  <th>[0.025</th>    <th>0.975]</th>  \n",
       "</tr>\n",
       "<tr>\n",
       "  <th>const</th>  <td>    0.0906</td> <td>    0.034</td> <td>    2.695</td> <td> 0.007</td> <td>    0.025</td> <td>    0.156</td>\n",
       "</tr>\n",
       "<tr>\n",
       "  <th>ar.L1</th>  <td>   -0.0394</td> <td>    0.051</td> <td>   -0.770</td> <td> 0.441</td> <td>   -0.140</td> <td>    0.061</td>\n",
       "</tr>\n",
       "<tr>\n",
       "  <th>ar.L2</th>  <td>   -0.1294</td> <td>    0.049</td> <td>   -2.661</td> <td> 0.008</td> <td>   -0.225</td> <td>   -0.034</td>\n",
       "</tr>\n",
       "<tr>\n",
       "  <th>ar.L3</th>  <td>    0.0369</td> <td>    0.054</td> <td>    0.678</td> <td> 0.498</td> <td>   -0.070</td> <td>    0.143</td>\n",
       "</tr>\n",
       "<tr>\n",
       "  <th>ar.L4</th>  <td>   -0.0470</td> <td>    0.056</td> <td>   -0.847</td> <td> 0.397</td> <td>   -0.156</td> <td>    0.062</td>\n",
       "</tr>\n",
       "<tr>\n",
       "  <th>ar.L5</th>  <td>    0.1592</td> <td>    0.055</td> <td>    2.901</td> <td> 0.004</td> <td>    0.052</td> <td>    0.267</td>\n",
       "</tr>\n",
       "<tr>\n",
       "  <th>ar.L6</th>  <td>    0.0849</td> <td>    0.065</td> <td>    1.302</td> <td> 0.193</td> <td>   -0.043</td> <td>    0.213</td>\n",
       "</tr>\n",
       "<tr>\n",
       "  <th>ar.L7</th>  <td>    0.1127</td> <td>    0.062</td> <td>    1.804</td> <td> 0.071</td> <td>   -0.010</td> <td>    0.235</td>\n",
       "</tr>\n",
       "<tr>\n",
       "  <th>ar.L8</th>  <td>   -0.0321</td> <td>    0.051</td> <td>   -0.631</td> <td> 0.528</td> <td>   -0.132</td> <td>    0.068</td>\n",
       "</tr>\n",
       "<tr>\n",
       "  <th>ar.L9</th>  <td>   -0.0048</td> <td>    0.049</td> <td>   -0.098</td> <td> 0.922</td> <td>   -0.100</td> <td>    0.090</td>\n",
       "</tr>\n",
       "<tr>\n",
       "  <th>ar.L10</th> <td>    0.0457</td> <td>    0.057</td> <td>    0.797</td> <td> 0.426</td> <td>   -0.067</td> <td>    0.158</td>\n",
       "</tr>\n",
       "<tr>\n",
       "  <th>ar.L11</th> <td>   -0.1054</td> <td>    0.055</td> <td>   -1.926</td> <td> 0.054</td> <td>   -0.213</td> <td>    0.002</td>\n",
       "</tr>\n",
       "<tr>\n",
       "  <th>ar.L12</th> <td>   -0.0840</td> <td>    0.076</td> <td>   -1.106</td> <td> 0.269</td> <td>   -0.233</td> <td>    0.065</td>\n",
       "</tr>\n",
       "<tr>\n",
       "  <th>ar.L13</th> <td>   -0.0597</td> <td>    0.077</td> <td>   -0.775</td> <td> 0.438</td> <td>   -0.211</td> <td>    0.091</td>\n",
       "</tr>\n",
       "<tr>\n",
       "  <th>ar.L14</th> <td>    0.0150</td> <td>    0.057</td> <td>    0.262</td> <td> 0.794</td> <td>   -0.097</td> <td>    0.127</td>\n",
       "</tr>\n",
       "<tr>\n",
       "  <th>ar.L15</th> <td>   -0.2731</td> <td>    0.060</td> <td>   -4.583</td> <td> 0.000</td> <td>   -0.390</td> <td>   -0.156</td>\n",
       "</tr>\n",
       "<tr>\n",
       "  <th>sigma2</th> <td>    0.2553</td> <td>    0.022</td> <td>   11.855</td> <td> 0.000</td> <td>    0.213</td> <td>    0.298</td>\n",
       "</tr>\n",
       "</table>\n",
       "<table class=\"simpletable\">\n",
       "<tr>\n",
       "  <th>Ljung-Box (L1) (Q):</th>     <td>0.29</td>  <th>  Jarque-Bera (JB):  </th> <td>36.60</td>\n",
       "</tr>\n",
       "<tr>\n",
       "  <th>Prob(Q):</th>                <td>0.59</td>  <th>  Prob(JB):          </th> <td>0.00</td> \n",
       "</tr>\n",
       "<tr>\n",
       "  <th>Heteroskedasticity (H):</th> <td>26.83</td> <th>  Skew:              </th> <td>0.01</td> \n",
       "</tr>\n",
       "<tr>\n",
       "  <th>Prob(H) (two-sided):</th>    <td>0.00</td>  <th>  Kurtosis:          </th> <td>5.10</td> \n",
       "</tr>\n",
       "</table><br/><br/>Warnings:<br/>[1] Covariance matrix calculated using the outer product of gradients (complex-step)."
      ],
      "text/plain": [
       "<class 'statsmodels.iolib.summary.Summary'>\n",
       "\"\"\"\n",
       "                               SARIMAX Results                                \n",
       "==============================================================================\n",
       "Dep. Variable:                  sft_1   No. Observations:                  200\n",
       "Model:                ARIMA(15, 0, 0)   Log Likelihood                -148.127\n",
       "Date:                Thu, 18 Aug 2022   AIC                            330.254\n",
       "Time:                        16:01:50   BIC                            386.326\n",
       "Sample:                    01-01-1801   HQIC                           352.945\n",
       "                         - 01-01-2000                                         \n",
       "Covariance Type:                  opg                                         \n",
       "==============================================================================\n",
       "                 coef    std err          z      P>|z|      [0.025      0.975]\n",
       "------------------------------------------------------------------------------\n",
       "const          0.0906      0.034      2.695      0.007       0.025       0.156\n",
       "ar.L1         -0.0394      0.051     -0.770      0.441      -0.140       0.061\n",
       "ar.L2         -0.1294      0.049     -2.661      0.008      -0.225      -0.034\n",
       "ar.L3          0.0369      0.054      0.678      0.498      -0.070       0.143\n",
       "ar.L4         -0.0470      0.056     -0.847      0.397      -0.156       0.062\n",
       "ar.L5          0.1592      0.055      2.901      0.004       0.052       0.267\n",
       "ar.L6          0.0849      0.065      1.302      0.193      -0.043       0.213\n",
       "ar.L7          0.1127      0.062      1.804      0.071      -0.010       0.235\n",
       "ar.L8         -0.0321      0.051     -0.631      0.528      -0.132       0.068\n",
       "ar.L9         -0.0048      0.049     -0.098      0.922      -0.100       0.090\n",
       "ar.L10         0.0457      0.057      0.797      0.426      -0.067       0.158\n",
       "ar.L11        -0.1054      0.055     -1.926      0.054      -0.213       0.002\n",
       "ar.L12        -0.0840      0.076     -1.106      0.269      -0.233       0.065\n",
       "ar.L13        -0.0597      0.077     -0.775      0.438      -0.211       0.091\n",
       "ar.L14         0.0150      0.057      0.262      0.794      -0.097       0.127\n",
       "ar.L15        -0.2731      0.060     -4.583      0.000      -0.390      -0.156\n",
       "sigma2         0.2553      0.022     11.855      0.000       0.213       0.298\n",
       "===================================================================================\n",
       "Ljung-Box (L1) (Q):                   0.29   Jarque-Bera (JB):                36.60\n",
       "Prob(Q):                              0.59   Prob(JB):                         0.00\n",
       "Heteroskedasticity (H):              26.83   Skew:                             0.01\n",
       "Prob(H) (two-sided):                  0.00   Kurtosis:                         5.10\n",
       "===================================================================================\n",
       "\n",
       "Warnings:\n",
       "[1] Covariance matrix calculated using the outer product of gradients (complex-step).\n",
       "\"\"\""
      ]
     },
     "execution_count": 49,
     "metadata": {},
     "output_type": "execute_result"
    }
   ],
   "source": [
    "model_st1 = ARIMA(X,order=(15,0,0))\n",
    "results_st1 = model_st1.fit()\n",
    "results_st1.summary()"
   ]
  },
  {
   "cell_type": "code",
   "execution_count": 50,
   "id": "df465d6e",
   "metadata": {},
   "outputs": [],
   "source": [
    "start=len(X)\n",
    "end=len(X)+len(y)-1\n",
    "predictions = results_st1.predict(start=start, end=end, dynamic=False, typ='levels')"
   ]
  },
  {
   "cell_type": "code",
   "execution_count": 51,
   "id": "4296894b",
   "metadata": {},
   "outputs": [
    {
     "name": "stdout",
     "output_type": "stream",
     "text": [
      "Model: AR(15)\n",
      "Error = 0.576826587391671\n"
     ]
    },
    {
     "data": {
      "image/png": "[encoded data removed]",
      "text/plain": [
       "<Figure size 864x288 with 1 Axes>"
      ]
     },
     "metadata": {
      "needs_background": "light"
     },
     "output_type": "display_data"
    }
   ],
   "source": [
    "error_and_plot(y,predictions,'AR(15)')"
   ]
  },
  {
   "cell_type": "code",
   "execution_count": null,
   "id": "275d5e70",
   "metadata": {},
   "outputs": [],
   "source": []
  },
  {
   "cell_type": "markdown",
   "id": "4107ab61",
   "metadata": {},
   "source": [
    "#### MA (15)\n",
    "\n"
   ]
  },
  {
   "cell_type": "code",
   "execution_count": 52,
   "id": "b33251b1",
   "metadata": {},
   "outputs": [
    {
     "name": "stderr",
     "output_type": "stream",
     "text": [
      "C:\\Anaconda\\lib\\site-packages\\statsmodels\\tsa\\base\\tsa_model.py:471: ValueWarning: No frequency information was provided, so inferred frequency AS-JAN will be used.\n",
      "  self._init_dates(dates, freq)\n",
      "C:\\Anaconda\\lib\\site-packages\\statsmodels\\tsa\\base\\tsa_model.py:471: ValueWarning: No frequency information was provided, so inferred frequency AS-JAN will be used.\n",
      "  self._init_dates(dates, freq)\n",
      "C:\\Anaconda\\lib\\site-packages\\statsmodels\\tsa\\base\\tsa_model.py:471: ValueWarning: No frequency information was provided, so inferred frequency AS-JAN will be used.\n",
      "  self._init_dates(dates, freq)\n"
     ]
    },
    {
     "data": {
      "text/html": [
       "<table class=\"simpletable\">\n",
       "<caption>SARIMAX Results</caption>\n",
       "<tr>\n",
       "  <th>Dep. Variable:</th>         <td>sft_1</td>      <th>  No. Observations:  </th>    <td>200</td>  \n",
       "</tr>\n",
       "<tr>\n",
       "  <th>Model:</th>            <td>ARIMA(0, 0, 15)</td> <th>  Log Likelihood     </th> <td>-145.028</td>\n",
       "</tr>\n",
       "<tr>\n",
       "  <th>Date:</th>            <td>Thu, 18 Aug 2022</td> <th>  AIC                </th>  <td>324.056</td>\n",
       "</tr>\n",
       "<tr>\n",
       "  <th>Time:</th>                <td>16:01:51</td>     <th>  BIC                </th>  <td>380.127</td>\n",
       "</tr>\n",
       "<tr>\n",
       "  <th>Sample:</th>             <td>01-01-1801</td>    <th>  HQIC               </th>  <td>346.747</td>\n",
       "</tr>\n",
       "<tr>\n",
       "  <th></th>                   <td>- 01-01-2000</td>   <th>                     </th>     <td> </td>   \n",
       "</tr>\n",
       "<tr>\n",
       "  <th>Covariance Type:</th>        <td>opg</td>       <th>                     </th>     <td> </td>   \n",
       "</tr>\n",
       "</table>\n",
       "<table class=\"simpletable\">\n",
       "<tr>\n",
       "     <td></td>       <th>coef</th>     <th>std err</th>      <th>z</th>      <th>P>|z|</th>  <th>[0.025</th>    <th>0.975]</th>  \n",
       "</tr>\n",
       "<tr>\n",
       "  <th>const</th>  <td>    0.0902</td> <td>    0.042</td> <td>    2.172</td> <td> 0.030</td> <td>    0.009</td> <td>    0.172</td>\n",
       "</tr>\n",
       "<tr>\n",
       "  <th>ma.L1</th>  <td>    0.0348</td> <td>    0.059</td> <td>    0.591</td> <td> 0.555</td> <td>   -0.081</td> <td>    0.150</td>\n",
       "</tr>\n",
       "<tr>\n",
       "  <th>ma.L2</th>  <td>   -0.0717</td> <td>    0.062</td> <td>   -1.150</td> <td> 0.250</td> <td>   -0.194</td> <td>    0.050</td>\n",
       "</tr>\n",
       "<tr>\n",
       "  <th>ma.L3</th>  <td>   -0.0358</td> <td>    0.047</td> <td>   -0.769</td> <td> 0.442</td> <td>   -0.127</td> <td>    0.055</td>\n",
       "</tr>\n",
       "<tr>\n",
       "  <th>ma.L4</th>  <td>   -0.0943</td> <td>    0.056</td> <td>   -1.678</td> <td> 0.093</td> <td>   -0.204</td> <td>    0.016</td>\n",
       "</tr>\n",
       "<tr>\n",
       "  <th>ma.L5</th>  <td>    0.2136</td> <td>    0.065</td> <td>    3.301</td> <td> 0.001</td> <td>    0.087</td> <td>    0.340</td>\n",
       "</tr>\n",
       "<tr>\n",
       "  <th>ma.L6</th>  <td>    0.1150</td> <td>    0.064</td> <td>    1.811</td> <td> 0.070</td> <td>   -0.009</td> <td>    0.239</td>\n",
       "</tr>\n",
       "<tr>\n",
       "  <th>ma.L7</th>  <td>    0.0397</td> <td>    0.059</td> <td>    0.675</td> <td> 0.499</td> <td>   -0.076</td> <td>    0.155</td>\n",
       "</tr>\n",
       "<tr>\n",
       "  <th>ma.L8</th>  <td>   -0.1151</td> <td>    0.060</td> <td>   -1.924</td> <td> 0.054</td> <td>   -0.232</td> <td>    0.002</td>\n",
       "</tr>\n",
       "<tr>\n",
       "  <th>ma.L9</th>  <td>   -0.0347</td> <td>    0.059</td> <td>   -0.588</td> <td> 0.556</td> <td>   -0.150</td> <td>    0.081</td>\n",
       "</tr>\n",
       "<tr>\n",
       "  <th>ma.L10</th> <td>    0.1209</td> <td>    0.059</td> <td>    2.052</td> <td> 0.040</td> <td>    0.005</td> <td>    0.236</td>\n",
       "</tr>\n",
       "<tr>\n",
       "  <th>ma.L11</th> <td>   -0.2065</td> <td>    0.062</td> <td>   -3.335</td> <td> 0.001</td> <td>   -0.328</td> <td>   -0.085</td>\n",
       "</tr>\n",
       "<tr>\n",
       "  <th>ma.L12</th> <td>   -0.0409</td> <td>    0.056</td> <td>   -0.736</td> <td> 0.462</td> <td>   -0.150</td> <td>    0.068</td>\n",
       "</tr>\n",
       "<tr>\n",
       "  <th>ma.L13</th> <td>    0.1608</td> <td>    0.057</td> <td>    2.818</td> <td> 0.005</td> <td>    0.049</td> <td>    0.273</td>\n",
       "</tr>\n",
       "<tr>\n",
       "  <th>ma.L14</th> <td>    0.0479</td> <td>    0.060</td> <td>    0.804</td> <td> 0.421</td> <td>   -0.069</td> <td>    0.165</td>\n",
       "</tr>\n",
       "<tr>\n",
       "  <th>ma.L15</th> <td>   -0.2465</td> <td>    0.065</td> <td>   -3.821</td> <td> 0.000</td> <td>   -0.373</td> <td>   -0.120</td>\n",
       "</tr>\n",
       "<tr>\n",
       "  <th>sigma2</th> <td>    0.2438</td> <td>    0.021</td> <td>   11.890</td> <td> 0.000</td> <td>    0.204</td> <td>    0.284</td>\n",
       "</tr>\n",
       "</table>\n",
       "<table class=\"simpletable\">\n",
       "<tr>\n",
       "  <th>Ljung-Box (L1) (Q):</th>     <td>0.09</td>  <th>  Jarque-Bera (JB):  </th> <td>36.52</td>\n",
       "</tr>\n",
       "<tr>\n",
       "  <th>Prob(Q):</th>                <td>0.77</td>  <th>  Prob(JB):          </th> <td>0.00</td> \n",
       "</tr>\n",
       "<tr>\n",
       "  <th>Heteroskedasticity (H):</th> <td>33.72</td> <th>  Skew:              </th> <td>-0.03</td>\n",
       "</tr>\n",
       "<tr>\n",
       "  <th>Prob(H) (two-sided):</th>    <td>0.00</td>  <th>  Kurtosis:          </th> <td>5.09</td> \n",
       "</tr>\n",
       "</table><br/><br/>Warnings:<br/>[1] Covariance matrix calculated using the outer product of gradients (complex-step)."
      ],
      "text/plain": [
       "<class 'statsmodels.iolib.summary.Summary'>\n",
       "\"\"\"\n",
       "                               SARIMAX Results                                \n",
       "==============================================================================\n",
       "Dep. Variable:                  sft_1   No. Observations:                  200\n",
       "Model:                ARIMA(0, 0, 15)   Log Likelihood                -145.028\n",
       "Date:                Thu, 18 Aug 2022   AIC                            324.056\n",
       "Time:                        16:01:51   BIC                            380.127\n",
       "Sample:                    01-01-1801   HQIC                           346.747\n",
       "                         - 01-01-2000                                         \n",
       "Covariance Type:                  opg                                         \n",
       "==============================================================================\n",
       "                 coef    std err          z      P>|z|      [0.025      0.975]\n",
       "------------------------------------------------------------------------------\n",
       "const          0.0902      0.042      2.172      0.030       0.009       0.172\n",
       "ma.L1          0.0348      0.059      0.591      0.555      -0.081       0.150\n",
       "ma.L2         -0.0717      0.062     -1.150      0.250      -0.194       0.050\n",
       "ma.L3         -0.0358      0.047     -0.769      0.442      -0.127       0.055\n",
       "ma.L4         -0.0943      0.056     -1.678      0.093      -0.204       0.016\n",
       "ma.L5          0.2136      0.065      3.301      0.001       0.087       0.340\n",
       "ma.L6          0.1150      0.064      1.811      0.070      -0.009       0.239\n",
       "ma.L7          0.0397      0.059      0.675      0.499      -0.076       0.155\n",
       "ma.L8         -0.1151      0.060     -1.924      0.054      -0.232       0.002\n",
       "ma.L9         -0.0347      0.059     -0.588      0.556      -0.150       0.081\n",
       "ma.L10         0.1209      0.059      2.052      0.040       0.005       0.236\n",
       "ma.L11        -0.2065      0.062     -3.335      0.001      -0.328      -0.085\n",
       "ma.L12        -0.0409      0.056     -0.736      0.462      -0.150       0.068\n",
       "ma.L13         0.1608      0.057      2.818      0.005       0.049       0.273\n",
       "ma.L14         0.0479      0.060      0.804      0.421      -0.069       0.165\n",
       "ma.L15        -0.2465      0.065     -3.821      0.000      -0.373      -0.120\n",
       "sigma2         0.2438      0.021     11.890      0.000       0.204       0.284\n",
       "===================================================================================\n",
       "Ljung-Box (L1) (Q):                   0.09   Jarque-Bera (JB):                36.52\n",
       "Prob(Q):                              0.77   Prob(JB):                         0.00\n",
       "Heteroskedasticity (H):              33.72   Skew:                            -0.03\n",
       "Prob(H) (two-sided):                  0.00   Kurtosis:                         5.09\n",
       "===================================================================================\n",
       "\n",
       "Warnings:\n",
       "[1] Covariance matrix calculated using the outer product of gradients (complex-step).\n",
       "\"\"\""
      ]
     },
     "execution_count": 52,
     "metadata": {},
     "output_type": "execute_result"
    }
   ],
   "source": [
    "model_st2 = ARIMA(X,order=(0,0,15))\n",
    "results_st2 = model_st2.fit()\n",
    "results_st2.summary()"
   ]
  },
  {
   "cell_type": "code",
   "execution_count": 53,
   "id": "d92f68ca",
   "metadata": {},
   "outputs": [],
   "source": [
    "start=len(X)\n",
    "end=len(X)+len(y)-1\n",
    "predictions = results_st2.predict(start=start, end=end, dynamic=False, typ='levels')"
   ]
  },
  {
   "cell_type": "code",
   "execution_count": 54,
   "id": "1113c3c7",
   "metadata": {},
   "outputs": [
    {
     "name": "stdout",
     "output_type": "stream",
     "text": [
      "Model: MA(15)\n",
      "Error = 0.6398286982935557\n"
     ]
    },
    {
     "data": {
      "image/png": "[encoded data removed]",
      "text/plain": [
       "<Figure size 864x288 with 1 Axes>"
      ]
     },
     "metadata": {
      "needs_background": "light"
     },
     "output_type": "display_data"
    }
   ],
   "source": [
    "error_and_plot(y,predictions,'MA(15)')"
   ]
  },
  {
   "cell_type": "code",
   "execution_count": 55,
   "id": "76a2ce89",
   "metadata": {},
   "outputs": [
    {
     "data": {
      "text/html": [
       "<div>\n",
       "<style scoped>\n",
       "    .dataframe tbody tr th:only-of-type {\n",
       "        vertical-align: middle;\n",
       "    }\n",
       "\n",
       "    .dataframe tbody tr th {\n",
       "        vertical-align: top;\n",
       "    }\n",
       "\n",
       "    .dataframe thead th {\n",
       "        text-align: right;\n",
       "    }\n",
       "</style>\n",
       "<table border=\"1\" class=\"dataframe\">\n",
       "  <thead>\n",
       "    <tr style=\"text-align: right;\">\n",
       "      <th></th>\n",
       "      <th>CO2</th>\n",
       "      <th>sft_1</th>\n",
       "    </tr>\n",
       "    <tr>\n",
       "      <th>Year</th>\n",
       "      <th></th>\n",
       "      <th></th>\n",
       "    </tr>\n",
       "  </thead>\n",
       "  <tbody>\n",
       "    <tr>\n",
       "      <th>1801-01-01</th>\n",
       "      <td>0.00561</td>\n",
       "      <td>-0.00007</td>\n",
       "    </tr>\n",
       "    <tr>\n",
       "      <th>1802-01-01</th>\n",
       "      <td>0.00555</td>\n",
       "      <td>-0.00006</td>\n",
       "    </tr>\n",
       "    <tr>\n",
       "      <th>1803-01-01</th>\n",
       "      <td>0.00548</td>\n",
       "      <td>-0.00007</td>\n",
       "    </tr>\n",
       "    <tr>\n",
       "      <th>1804-01-01</th>\n",
       "      <td>0.00542</td>\n",
       "      <td>-0.00006</td>\n",
       "    </tr>\n",
       "    <tr>\n",
       "      <th>1805-01-01</th>\n",
       "      <td>0.00536</td>\n",
       "      <td>-0.00006</td>\n",
       "    </tr>\n",
       "    <tr>\n",
       "      <th>...</th>\n",
       "      <td>...</td>\n",
       "      <td>...</td>\n",
       "    </tr>\n",
       "    <tr>\n",
       "      <th>2010-01-01</th>\n",
       "      <td>15.60000</td>\n",
       "      <td>-0.30000</td>\n",
       "    </tr>\n",
       "    <tr>\n",
       "      <th>2011-01-01</th>\n",
       "      <td>15.60000</td>\n",
       "      <td>0.00000</td>\n",
       "    </tr>\n",
       "    <tr>\n",
       "      <th>2012-01-01</th>\n",
       "      <td>14.80000</td>\n",
       "      <td>-0.80000</td>\n",
       "    </tr>\n",
       "    <tr>\n",
       "      <th>2013-01-01</th>\n",
       "      <td>14.70000</td>\n",
       "      <td>-0.10000</td>\n",
       "    </tr>\n",
       "    <tr>\n",
       "      <th>2014-01-01</th>\n",
       "      <td>15.10000</td>\n",
       "      <td>0.40000</td>\n",
       "    </tr>\n",
       "  </tbody>\n",
       "</table>\n",
       "<p>214 rows × 2 columns</p>\n",
       "</div>"
      ],
      "text/plain": [
       "                 CO2    sft_1\n",
       "Year                         \n",
       "1801-01-01   0.00561 -0.00007\n",
       "1802-01-01   0.00555 -0.00006\n",
       "1803-01-01   0.00548 -0.00007\n",
       "1804-01-01   0.00542 -0.00006\n",
       "1805-01-01   0.00536 -0.00006\n",
       "...              ...      ...\n",
       "2010-01-01  15.60000 -0.30000\n",
       "2011-01-01  15.60000  0.00000\n",
       "2012-01-01  14.80000 -0.80000\n",
       "2013-01-01  14.70000 -0.10000\n",
       "2014-01-01  15.10000  0.40000\n",
       "\n",
       "[214 rows x 2 columns]"
      ]
     },
     "execution_count": 55,
     "metadata": {},
     "output_type": "execute_result"
    }
   ],
   "source": [
    "df"
   ]
  },
  {
   "cell_type": "markdown",
   "id": "8a1f2d2f",
   "metadata": {},
   "source": [
    "### ML Regression Models"
   ]
  },
  {
   "cell_type": "markdown",
   "id": "c4e71aa7",
   "metadata": {},
   "source": [
    "#### Linear regression"
   ]
  },
  {
   "cell_type": "code",
   "execution_count": 56,
   "id": "ce9b1392",
   "metadata": {},
   "outputs": [
    {
     "name": "stdout",
     "output_type": "stream",
     "text": [
      "Model: linear regression\n",
      "Error = 9.819469786058905\n"
     ]
    },
    {
     "data": {
      "image/png": "[encoded data removed]",
      "text/plain": [
       "<Figure size 864x288 with 1 Axes>"
      ]
     },
     "metadata": {
      "needs_background": "light"
     },
     "output_type": "display_data"
    }
   ],
   "source": [
    "lin_model = LinearRegression()\n",
    "\n",
    "X_train = df['sft_1'].iloc[:205]\n",
    "y_train = df['CO2'].iloc[:205]\n",
    "X_test = df['sft_1'].iloc[205:]\n",
    "y_test = df['CO2'].iloc[205:]\n",
    "\n",
    "X_train,X_test,y_train,y_test=np.array(X_train),np.array(X_test),np.array(y_train),np.array(y_test)\n",
    "X_train,X_test,y_train,y_test=X_train.reshape(-1,1),X_test.reshape(-1,1),y_train.reshape(-1,1),y_test.reshape(-1,1)\n",
    "\n",
    "lin_model.fit(X_train,y_train)\n",
    "prediction = lin_model.predict(X_test)\n",
    "\n",
    "error_and_plot(y_test,prediction,'linear regression')"
   ]
  },
  {
   "cell_type": "markdown",
   "id": "1e838bb2",
   "metadata": {},
   "source": [
    "#### RandomForest Regressor"
   ]
  },
  {
   "cell_type": "code",
   "execution_count": 57,
   "id": "a3701747",
   "metadata": {},
   "outputs": [
    {
     "name": "stdout",
     "output_type": "stream",
     "text": [
      "Model: random forest regression\n",
      "Error = 3.6014164763017074\n"
     ]
    },
    {
     "data": {
      "image/png": "[encoded data removed]",
      "text/plain": [
       "<Figure size 864x288 with 1 Axes>"
      ]
     },
     "metadata": {
      "needs_background": "light"
     },
     "output_type": "display_data"
    }
   ],
   "source": [
    "rmf_model = RandomForestRegressor(n_estimators=100,max_features=1, random_state=1)\n",
    "\n",
    "y_train = y_train.ravel()\n",
    "\n",
    "rmf_model.fit(X_train,y_train)\n",
    "preds = rmf_model.predict(X_test)\n",
    "\n",
    "error_and_plot(y_test,preds,'random forest regression')"
   ]
  },
  {
   "cell_type": "markdown",
   "id": "b8339b6f",
   "metadata": {},
   "source": [
    "#### XGBRegressor model"
   ]
  },
  {
   "cell_type": "code",
   "execution_count": 58,
   "id": "6709767d",
   "metadata": {},
   "outputs": [
    {
     "name": "stdout",
     "output_type": "stream",
     "text": [
      "[0]\tvalidation_0-mae:6.13231\tvalidation_1-mae:15.16740\n",
      "[1]\tvalidation_0-mae:6.07542\tvalidation_1-mae:15.05803\n",
      "[2]\tvalidation_0-mae:6.01905\tvalidation_1-mae:14.94963\n",
      "[3]\tvalidation_0-mae:5.96322\tvalidation_1-mae:14.84221\n",
      "[4]\tvalidation_0-mae:5.90792\tvalidation_1-mae:14.73576\n",
      "[5]\tvalidation_0-mae:5.85313\tvalidation_1-mae:14.63026\n",
      "[6]\tvalidation_0-mae:5.79891\tvalidation_1-mae:14.52572\n",
      "[7]\tvalidation_0-mae:5.74611\tvalidation_1-mae:14.42211\n",
      "[8]\tvalidation_0-mae:5.69382\tvalidation_1-mae:14.31944\n",
      "[9]\tvalidation_0-mae:5.64202\tvalidation_1-mae:14.21769\n",
      "[10]\tvalidation_0-mae:5.59072\tvalidation_1-mae:14.11686\n",
      "[11]\tvalidation_0-mae:5.53989\tvalidation_1-mae:14.01693\n",
      "[12]\tvalidation_0-mae:5.48954\tvalidation_1-mae:13.91790\n",
      "[13]\tvalidation_0-mae:5.43966\tvalidation_1-mae:13.81976\n",
      "[14]\tvalidation_0-mae:5.39026\tvalidation_1-mae:13.72251\n",
      "[15]\tvalidation_0-mae:5.34130\tvalidation_1-mae:13.62612\n",
      "[16]\tvalidation_0-mae:5.29280\tvalidation_1-mae:13.53061\n",
      "[17]\tvalidation_0-mae:5.24510\tvalidation_1-mae:13.43770\n",
      "[18]\tvalidation_0-mae:5.19799\tvalidation_1-mae:13.34206\n",
      "[19]\tvalidation_0-mae:5.15112\tvalidation_1-mae:13.25161\n",
      "[20]\tvalidation_0-mae:5.10472\tvalidation_1-mae:13.16115\n",
      "[21]\tvalidation_0-mae:5.05948\tvalidation_1-mae:13.06799\n",
      "[22]\tvalidation_0-mae:5.01442\tvalidation_1-mae:12.97912\n",
      "[23]\tvalidation_0-mae:4.97009\tvalidation_1-mae:12.89103\n",
      "[24]\tvalidation_0-mae:4.92616\tvalidation_1-mae:12.80371\n",
      "[25]\tvalidation_0-mae:4.88334\tvalidation_1-mae:12.71378\n",
      "[26]\tvalidation_0-mae:4.84022\tvalidation_1-mae:12.62800\n",
      "[27]\tvalidation_0-mae:4.79748\tvalidation_1-mae:12.54298\n",
      "[28]\tvalidation_0-mae:4.75583\tvalidation_1-mae:12.45539\n",
      "[29]\tvalidation_0-mae:4.71383\tvalidation_1-mae:12.37265\n",
      "[30]\tvalidation_0-mae:4.67227\tvalidation_1-mae:12.28985\n",
      "[31]\tvalidation_0-mae:4.63108\tvalidation_1-mae:12.20779\n",
      "[32]\tvalidation_0-mae:4.59095\tvalidation_1-mae:12.12322\n",
      "[33]\tvalidation_0-mae:4.55060\tvalidation_1-mae:12.04260\n",
      "[34]\tvalidation_0-mae:4.51061\tvalidation_1-mae:11.96269\n",
      "[35]\tvalidation_0-mae:4.47165\tvalidation_1-mae:11.88033\n",
      "[36]\tvalidation_0-mae:4.43239\tvalidation_1-mae:11.80182\n",
      "[37]\tvalidation_0-mae:4.39364\tvalidation_1-mae:11.72401\n",
      "[38]\tvalidation_0-mae:4.35600\tvalidation_1-mae:11.64763\n",
      "[39]\tvalidation_0-mae:4.31942\tvalidation_1-mae:11.56809\n",
      "[40]\tvalidation_0-mae:4.28255\tvalidation_1-mae:11.49232\n",
      "[41]\tvalidation_0-mae:4.24601\tvalidation_1-mae:11.41721\n",
      "[42]\tvalidation_0-mae:4.21043\tvalidation_1-mae:11.33975\n",
      "[43]\tvalidation_0-mae:4.17456\tvalidation_1-mae:11.26597\n",
      "[44]\tvalidation_0-mae:4.13902\tvalidation_1-mae:11.19283\n",
      "[45]\tvalidation_0-mae:4.10442\tvalidation_1-mae:11.11738\n",
      "[46]\tvalidation_0-mae:4.06952\tvalidation_1-mae:11.04553\n",
      "[47]\tvalidation_0-mae:4.03490\tvalidation_1-mae:10.97502\n",
      "[48]\tvalidation_0-mae:4.00109\tvalidation_1-mae:10.90565\n",
      "[49]\tvalidation_0-mae:3.96774\tvalidation_1-mae:10.83278\n",
      "[50]\tvalidation_0-mae:3.93409\tvalidation_1-mae:10.76341\n",
      "[51]\tvalidation_0-mae:3.90121\tvalidation_1-mae:10.69586\n",
      "[52]\tvalidation_0-mae:3.86877\tvalidation_1-mae:10.62488\n",
      "[53]\tvalidation_0-mae:3.83604\tvalidation_1-mae:10.55732\n",
      "[54]\tvalidation_0-mae:3.80405\tvalidation_1-mae:10.49153\n",
      "[55]\tvalidation_0-mae:3.77243\tvalidation_1-mae:10.42306\n",
      "[56]\tvalidation_0-mae:3.74103\tvalidation_1-mae:10.35842\n",
      "[57]\tvalidation_0-mae:3.70948\tvalidation_1-mae:10.29319\n",
      "[58]\tvalidation_0-mae:3.67822\tvalidation_1-mae:10.22852\n",
      "[59]\tvalidation_0-mae:3.64826\tvalidation_1-mae:10.16289\n",
      "[60]\tvalidation_0-mae:3.61785\tvalidation_1-mae:10.09899\n",
      "[61]\tvalidation_0-mae:3.58773\tvalidation_1-mae:10.03565\n",
      "[62]\tvalidation_0-mae:3.55903\tvalidation_1-mae:9.97435\n",
      "[63]\tvalidation_0-mae:3.53044\tvalidation_1-mae:9.91049\n",
      "[64]\tvalidation_0-mae:3.50168\tvalidation_1-mae:9.84879\n",
      "[65]\tvalidation_0-mae:3.47397\tvalidation_1-mae:9.78874\n",
      "[66]\tvalidation_0-mae:3.44570\tvalidation_1-mae:9.72844\n",
      "[67]\tvalidation_0-mae:3.41832\tvalidation_1-mae:9.66615\n",
      "[68]\tvalidation_0-mae:3.39151\tvalidation_1-mae:9.60767\n",
      "[69]\tvalidation_0-mae:3.36417\tvalidation_1-mae:9.54861\n",
      "[70]\tvalidation_0-mae:3.33703\tvalidation_1-mae:9.49040\n",
      "[71]\tvalidation_0-mae:3.31138\tvalidation_1-mae:9.43192\n",
      "[72]\tvalidation_0-mae:3.28480\tvalidation_1-mae:9.37439\n",
      "[73]\tvalidation_0-mae:3.25857\tvalidation_1-mae:9.31737\n",
      "[74]\tvalidation_0-mae:3.23344\tvalidation_1-mae:9.26284\n",
      "[75]\tvalidation_0-mae:3.20820\tvalidation_1-mae:9.20472\n",
      "[76]\tvalidation_0-mae:3.18275\tvalidation_1-mae:9.14917\n",
      "[77]\tvalidation_0-mae:3.15846\tvalidation_1-mae:9.09685\n",
      "[78]\tvalidation_0-mae:3.13381\tvalidation_1-mae:9.04081\n",
      "[79]\tvalidation_0-mae:3.10947\tvalidation_1-mae:8.98468\n",
      "[80]\tvalidation_0-mae:3.08613\tvalidation_1-mae:8.93068\n",
      "[81]\tvalidation_0-mae:3.06235\tvalidation_1-mae:8.87553\n",
      "[82]\tvalidation_0-mae:3.03886\tvalidation_1-mae:8.82087\n",
      "[83]\tvalidation_0-mae:3.01558\tvalidation_1-mae:8.76669\n",
      "[84]\tvalidation_0-mae:2.99395\tvalidation_1-mae:8.71460\n",
      "[85]\tvalidation_0-mae:2.97214\tvalidation_1-mae:8.66194\n",
      "[86]\tvalidation_0-mae:2.95108\tvalidation_1-mae:8.61210\n",
      "[87]\tvalidation_0-mae:2.92939\tvalidation_1-mae:8.56085\n",
      "[88]\tvalidation_0-mae:2.90790\tvalidation_1-mae:8.51073\n",
      "[89]\tvalidation_0-mae:2.88739\tvalidation_1-mae:8.46216\n",
      "[90]\tvalidation_0-mae:2.86629\tvalidation_1-mae:8.41221\n",
      "[91]\tvalidation_0-mae:2.84667\tvalidation_1-mae:8.36447\n",
      "[92]\tvalidation_0-mae:2.82639\tvalidation_1-mae:8.31591\n",
      "[93]\tvalidation_0-mae:2.80733\tvalidation_1-mae:8.26940\n",
      "[94]\tvalidation_0-mae:2.78750\tvalidation_1-mae:8.22178\n",
      "[95]\tvalidation_0-mae:2.76867\tvalidation_1-mae:8.17499\n",
      "[96]\tvalidation_0-mae:2.74922\tvalidation_1-mae:8.12817\n",
      "[97]\tvalidation_0-mae:2.73071\tvalidation_1-mae:8.08284\n",
      "[98]\tvalidation_0-mae:2.71163\tvalidation_1-mae:8.03616\n",
      "[99]\tvalidation_0-mae:2.69260\tvalidation_1-mae:7.99106\n",
      "[100]\tvalidation_0-mae:2.67474\tvalidation_1-mae:7.94624\n",
      "[101]\tvalidation_0-mae:2.65653\tvalidation_1-mae:7.90138\n",
      "[102]\tvalidation_0-mae:2.63906\tvalidation_1-mae:7.85796\n",
      "[103]\tvalidation_0-mae:2.62118\tvalidation_1-mae:7.81323\n",
      "[104]\tvalidation_0-mae:2.60430\tvalidation_1-mae:7.77093\n",
      "[105]\tvalidation_0-mae:2.58730\tvalidation_1-mae:7.72695\n",
      "[106]\tvalidation_0-mae:2.57122\tvalidation_1-mae:7.68549\n",
      "[107]\tvalidation_0-mae:2.55482\tvalidation_1-mae:7.64287\n",
      "[108]\tvalidation_0-mae:2.53897\tvalidation_1-mae:7.60101\n",
      "[109]\tvalidation_0-mae:2.52260\tvalidation_1-mae:7.55910\n",
      "[110]\tvalidation_0-mae:2.50658\tvalidation_1-mae:7.51755\n",
      "[111]\tvalidation_0-mae:2.49157\tvalidation_1-mae:7.47601\n",
      "[112]\tvalidation_0-mae:2.47576\tvalidation_1-mae:7.43566\n",
      "[113]\tvalidation_0-mae:2.46121\tvalidation_1-mae:7.39735\n",
      "[114]\tvalidation_0-mae:2.44574\tvalidation_1-mae:7.35719\n",
      "[115]\tvalidation_0-mae:2.43112\tvalidation_1-mae:7.31836\n",
      "[116]\tvalidation_0-mae:2.41629\tvalidation_1-mae:7.27888\n",
      "[117]\tvalidation_0-mae:2.40229\tvalidation_1-mae:7.24047\n",
      "[118]\tvalidation_0-mae:2.38818\tvalidation_1-mae:7.20285\n",
      "[119]\tvalidation_0-mae:2.37452\tvalidation_1-mae:7.16531\n",
      "[120]\tvalidation_0-mae:2.36023\tvalidation_1-mae:7.12715\n",
      "[121]\tvalidation_0-mae:2.34690\tvalidation_1-mae:7.08968\n",
      "[122]\tvalidation_0-mae:2.33341\tvalidation_1-mae:7.05337\n",
      "[123]\tvalidation_0-mae:2.32068\tvalidation_1-mae:7.01710\n",
      "[124]\tvalidation_0-mae:2.30696\tvalidation_1-mae:6.98020\n",
      "[125]\tvalidation_0-mae:2.29340\tvalidation_1-mae:6.94307\n",
      "[126]\tvalidation_0-mae:2.28167\tvalidation_1-mae:6.90918\n",
      "[127]\tvalidation_0-mae:2.26862\tvalidation_1-mae:6.87321\n",
      "[128]\tvalidation_0-mae:2.25665\tvalidation_1-mae:6.83869\n",
      "[129]\tvalidation_0-mae:2.24371\tvalidation_1-mae:6.80278\n",
      "[130]\tvalidation_0-mae:2.23187\tvalidation_1-mae:6.76929\n",
      "[131]\tvalidation_0-mae:2.21954\tvalidation_1-mae:6.73575\n",
      "[132]\tvalidation_0-mae:2.20703\tvalidation_1-mae:6.70126\n",
      "[133]\tvalidation_0-mae:2.19453\tvalidation_1-mae:6.66654\n",
      "[134]\tvalidation_0-mae:2.18248\tvalidation_1-mae:6.63265\n",
      "[135]\tvalidation_0-mae:2.17116\tvalidation_1-mae:6.60027\n",
      "[136]\tvalidation_0-mae:2.15960\tvalidation_1-mae:6.56695\n",
      "[137]\tvalidation_0-mae:2.14844\tvalidation_1-mae:6.53437\n",
      "[138]\tvalidation_0-mae:2.13838\tvalidation_1-mae:6.50362\n",
      "[139]\tvalidation_0-mae:2.12749\tvalidation_1-mae:6.47209\n",
      "[140]\tvalidation_0-mae:2.11708\tvalidation_1-mae:6.44110\n",
      "[141]\tvalidation_0-mae:2.10634\tvalidation_1-mae:6.40960\n",
      "[142]\tvalidation_0-mae:2.09582\tvalidation_1-mae:6.37887\n",
      "[143]\tvalidation_0-mae:2.08531\tvalidation_1-mae:6.34883\n",
      "[144]\tvalidation_0-mae:2.07508\tvalidation_1-mae:6.31812\n",
      "[145]\tvalidation_0-mae:2.06489\tvalidation_1-mae:6.28692\n",
      "[146]\tvalidation_0-mae:2.05492\tvalidation_1-mae:6.25671\n",
      "[147]\tvalidation_0-mae:2.04490\tvalidation_1-mae:6.22600\n"
     ]
    },
    {
     "name": "stdout",
     "output_type": "stream",
     "text": [
      "[148]\tvalidation_0-mae:2.03521\tvalidation_1-mae:6.19677\n",
      "[149]\tvalidation_0-mae:2.02536\tvalidation_1-mae:6.16653\n",
      "[150]\tvalidation_0-mae:2.01573\tvalidation_1-mae:6.13728\n",
      "[151]\tvalidation_0-mae:2.00640\tvalidation_1-mae:6.10852\n",
      "[152]\tvalidation_0-mae:1.99700\tvalidation_1-mae:6.07975\n"
     ]
    },
    {
     "name": "stderr",
     "output_type": "stream",
     "text": [
      "C:\\Anaconda\\lib\\site-packages\\xgboost\\sklearn.py:793: UserWarning: `eval_metric` in `fit` method is deprecated for better compatibility with scikit-learn, use `eval_metric` in constructor or`set_params` instead.\n",
      "  warnings.warn(\n"
     ]
    },
    {
     "name": "stdout",
     "output_type": "stream",
     "text": [
      "[153]\tvalidation_0-mae:1.98812\tvalidation_1-mae:6.05133\n",
      "[154]\tvalidation_0-mae:1.97892\tvalidation_1-mae:6.02349\n",
      "[155]\tvalidation_0-mae:1.96967\tvalidation_1-mae:5.99461\n",
      "[156]\tvalidation_0-mae:1.96088\tvalidation_1-mae:5.96597\n",
      "[157]\tvalidation_0-mae:1.95251\tvalidation_1-mae:5.93831\n",
      "[158]\tvalidation_0-mae:1.94418\tvalidation_1-mae:5.91011\n",
      "[159]\tvalidation_0-mae:1.93606\tvalidation_1-mae:5.88291\n",
      "[160]\tvalidation_0-mae:1.92816\tvalidation_1-mae:5.85594\n",
      "[161]\tvalidation_0-mae:1.92035\tvalidation_1-mae:5.82884\n",
      "[162]\tvalidation_0-mae:1.91261\tvalidation_1-mae:5.80196\n",
      "[163]\tvalidation_0-mae:1.90491\tvalidation_1-mae:5.77563\n",
      "[164]\tvalidation_0-mae:1.89776\tvalidation_1-mae:5.75030\n",
      "[165]\tvalidation_0-mae:1.89026\tvalidation_1-mae:5.72405\n",
      "[166]\tvalidation_0-mae:1.88293\tvalidation_1-mae:5.69833\n",
      "[167]\tvalidation_0-mae:1.87569\tvalidation_1-mae:5.67248\n",
      "[168]\tvalidation_0-mae:1.86866\tvalidation_1-mae:5.64659\n",
      "[169]\tvalidation_0-mae:1.86178\tvalidation_1-mae:5.62147\n",
      "[170]\tvalidation_0-mae:1.85508\tvalidation_1-mae:5.59598\n",
      "[171]\tvalidation_0-mae:1.84855\tvalidation_1-mae:5.56819\n",
      "[172]\tvalidation_0-mae:1.84212\tvalidation_1-mae:5.54473\n",
      "[173]\tvalidation_0-mae:1.83560\tvalidation_1-mae:5.51734\n",
      "[174]\tvalidation_0-mae:1.82920\tvalidation_1-mae:5.49018\n",
      "[175]\tvalidation_0-mae:1.82278\tvalidation_1-mae:5.46669\n",
      "[176]\tvalidation_0-mae:1.81651\tvalidation_1-mae:5.43994\n",
      "[177]\tvalidation_0-mae:1.81025\tvalidation_1-mae:5.41340\n",
      "[178]\tvalidation_0-mae:1.80408\tvalidation_1-mae:5.38708\n",
      "[179]\tvalidation_0-mae:1.79774\tvalidation_1-mae:5.36389\n",
      "[180]\tvalidation_0-mae:1.79188\tvalidation_1-mae:5.33897\n",
      "[181]\tvalidation_0-mae:1.78556\tvalidation_1-mae:5.31651\n",
      "[182]\tvalidation_0-mae:1.77975\tvalidation_1-mae:5.29097\n",
      "[183]\tvalidation_0-mae:1.77404\tvalidation_1-mae:5.26563\n",
      "[184]\tvalidation_0-mae:1.76811\tvalidation_1-mae:5.24372\n",
      "[185]\tvalidation_0-mae:1.76253\tvalidation_1-mae:5.21876\n",
      "[186]\tvalidation_0-mae:1.75697\tvalidation_1-mae:5.19726\n",
      "[187]\tvalidation_0-mae:1.75172\tvalidation_1-mae:5.17307\n",
      "[188]\tvalidation_0-mae:1.74626\tvalidation_1-mae:5.14882\n",
      "[189]\tvalidation_0-mae:1.74070\tvalidation_1-mae:5.12792\n",
      "[190]\tvalidation_0-mae:1.73499\tvalidation_1-mae:5.10733\n",
      "[191]\tvalidation_0-mae:1.72953\tvalidation_1-mae:5.08716\n",
      "[192]\tvalidation_0-mae:1.72391\tvalidation_1-mae:5.06693\n",
      "[193]\tvalidation_0-mae:1.71853\tvalidation_1-mae:5.04673\n",
      "[194]\tvalidation_0-mae:1.71350\tvalidation_1-mae:5.02347\n",
      "[195]\tvalidation_0-mae:1.70841\tvalidation_1-mae:5.00416\n",
      "[196]\tvalidation_0-mae:1.70336\tvalidation_1-mae:4.98544\n",
      "[197]\tvalidation_0-mae:1.69834\tvalidation_1-mae:4.96604\n",
      "[198]\tvalidation_0-mae:1.69349\tvalidation_1-mae:4.94704\n",
      "[199]\tvalidation_0-mae:1.68889\tvalidation_1-mae:4.92697\n",
      "[200]\tvalidation_0-mae:1.68428\tvalidation_1-mae:4.90887\n",
      "[201]\tvalidation_0-mae:1.67959\tvalidation_1-mae:4.89010\n",
      "[202]\tvalidation_0-mae:1.67507\tvalidation_1-mae:4.87232\n",
      "[203]\tvalidation_0-mae:1.67069\tvalidation_1-mae:4.85282\n",
      "[204]\tvalidation_0-mae:1.66631\tvalidation_1-mae:4.83451\n",
      "[205]\tvalidation_0-mae:1.66177\tvalidation_1-mae:4.81636\n",
      "[206]\tvalidation_0-mae:1.65746\tvalidation_1-mae:4.79836\n",
      "[207]\tvalidation_0-mae:1.65302\tvalidation_1-mae:4.78222\n",
      "[208]\tvalidation_0-mae:1.64906\tvalidation_1-mae:4.76107\n",
      "[209]\tvalidation_0-mae:1.64518\tvalidation_1-mae:4.74352\n",
      "[210]\tvalidation_0-mae:1.64052\tvalidation_1-mae:4.72666\n",
      "[211]\tvalidation_0-mae:1.63618\tvalidation_1-mae:4.70916\n",
      "[212]\tvalidation_0-mae:1.63240\tvalidation_1-mae:4.69202\n",
      "[213]\tvalidation_0-mae:1.62894\tvalidation_1-mae:4.67669\n",
      "[214]\tvalidation_0-mae:1.62483\tvalidation_1-mae:4.66037\n",
      "[215]\tvalidation_0-mae:1.62096\tvalidation_1-mae:4.64107\n",
      "[216]\tvalidation_0-mae:1.61769\tvalidation_1-mae:4.62449\n",
      "[217]\tvalidation_0-mae:1.61410\tvalidation_1-mae:4.61063\n",
      "[218]\tvalidation_0-mae:1.61106\tvalidation_1-mae:4.59085\n",
      "[219]\tvalidation_0-mae:1.60749\tvalidation_1-mae:4.57561\n",
      "[220]\tvalidation_0-mae:1.60433\tvalidation_1-mae:4.56117\n",
      "[221]\tvalidation_0-mae:1.60111\tvalidation_1-mae:4.54272\n",
      "[222]\tvalidation_0-mae:1.59813\tvalidation_1-mae:4.52724\n",
      "[223]\tvalidation_0-mae:1.59476\tvalidation_1-mae:4.51250\n",
      "[224]\tvalidation_0-mae:1.59194\tvalidation_1-mae:4.49938\n",
      "[225]\tvalidation_0-mae:1.58879\tvalidation_1-mae:4.48165\n",
      "[226]\tvalidation_0-mae:1.58624\tvalidation_1-mae:4.46718\n",
      "[227]\tvalidation_0-mae:1.58338\tvalidation_1-mae:4.44970\n",
      "[228]\tvalidation_0-mae:1.58089\tvalidation_1-mae:4.43545\n",
      "[229]\tvalidation_0-mae:1.57844\tvalidation_1-mae:4.42289\n",
      "[230]\tvalidation_0-mae:1.57576\tvalidation_1-mae:4.40551\n",
      "[231]\tvalidation_0-mae:1.57332\tvalidation_1-mae:4.39160\n",
      "[232]\tvalidation_0-mae:1.57040\tvalidation_1-mae:4.37968\n",
      "[233]\tvalidation_0-mae:1.56816\tvalidation_1-mae:4.36255\n",
      "[234]\tvalidation_0-mae:1.56555\tvalidation_1-mae:4.34421\n",
      "[235]\tvalidation_0-mae:1.56330\tvalidation_1-mae:4.33075\n",
      "[236]\tvalidation_0-mae:1.56053\tvalidation_1-mae:4.31772\n",
      "[237]\tvalidation_0-mae:1.55814\tvalidation_1-mae:4.30600\n",
      "[238]\tvalidation_0-mae:1.55542\tvalidation_1-mae:4.28984\n",
      "[239]\tvalidation_0-mae:1.55308\tvalidation_1-mae:4.27633\n",
      "[240]\tvalidation_0-mae:1.55075\tvalidation_1-mae:4.26492\n",
      "[241]\tvalidation_0-mae:1.54820\tvalidation_1-mae:4.24885\n",
      "[242]\tvalidation_0-mae:1.54593\tvalidation_1-mae:4.23565\n",
      "[243]\tvalidation_0-mae:1.54396\tvalidation_1-mae:4.21827\n",
      "[244]\tvalidation_0-mae:1.54141\tvalidation_1-mae:4.20734\n",
      "[245]\tvalidation_0-mae:1.53952\tvalidation_1-mae:4.19163\n",
      "[246]\tvalidation_0-mae:1.53714\tvalidation_1-mae:4.17963\n",
      "[247]\tvalidation_0-mae:1.53496\tvalidation_1-mae:4.16838\n",
      "[248]\tvalidation_0-mae:1.53293\tvalidation_1-mae:4.15245\n",
      "[249]\tvalidation_0-mae:1.53095\tvalidation_1-mae:4.14059\n",
      "[250]\tvalidation_0-mae:1.52901\tvalidation_1-mae:4.12817\n",
      "[251]\tvalidation_0-mae:1.52706\tvalidation_1-mae:4.11255\n",
      "[252]\tvalidation_0-mae:1.52500\tvalidation_1-mae:4.10245\n",
      "[253]\tvalidation_0-mae:1.52310\tvalidation_1-mae:4.09032\n",
      "[254]\tvalidation_0-mae:1.52080\tvalidation_1-mae:4.07599\n",
      "[255]\tvalidation_0-mae:1.51886\tvalidation_1-mae:4.06550\n",
      "[256]\tvalidation_0-mae:1.51658\tvalidation_1-mae:4.05137\n",
      "[257]\tvalidation_0-mae:1.51474\tvalidation_1-mae:4.04026\n",
      "[258]\tvalidation_0-mae:1.51290\tvalidation_1-mae:4.03003\n",
      "[259]\tvalidation_0-mae:1.51069\tvalidation_1-mae:4.01618\n",
      "[260]\tvalidation_0-mae:1.50900\tvalidation_1-mae:4.00470\n",
      "[261]\tvalidation_0-mae:1.50683\tvalidation_1-mae:3.99569\n",
      "[262]\tvalidation_0-mae:1.50501\tvalidation_1-mae:3.98114\n",
      "[263]\tvalidation_0-mae:1.50297\tvalidation_1-mae:3.97089\n",
      "[264]\tvalidation_0-mae:1.50124\tvalidation_1-mae:3.96117\n",
      "[265]\tvalidation_0-mae:1.49911\tvalidation_1-mae:3.94784\n",
      "[266]\tvalidation_0-mae:1.49709\tvalidation_1-mae:3.93784\n",
      "[267]\tvalidation_0-mae:1.49534\tvalidation_1-mae:3.92836\n",
      "[268]\tvalidation_0-mae:1.49365\tvalidation_1-mae:3.91497\n",
      "[269]\tvalidation_0-mae:1.49167\tvalidation_1-mae:3.90522\n",
      "[270]\tvalidation_0-mae:1.48959\tvalidation_1-mae:3.89232\n",
      "[271]\tvalidation_0-mae:1.48793\tvalidation_1-mae:3.88315\n",
      "[272]\tvalidation_0-mae:1.48596\tvalidation_1-mae:3.87364\n",
      "[273]\tvalidation_0-mae:1.48424\tvalidation_1-mae:3.86004\n",
      "[274]\tvalidation_0-mae:1.48224\tvalidation_1-mae:3.85204\n",
      "[275]\tvalidation_0-mae:1.48072\tvalidation_1-mae:3.83909\n",
      "[276]\tvalidation_0-mae:1.47920\tvalidation_1-mae:3.82958\n",
      "[277]\tvalidation_0-mae:1.47722\tvalidation_1-mae:3.82180\n",
      "[278]\tvalidation_0-mae:1.47521\tvalidation_1-mae:3.80956\n",
      "[279]\tvalidation_0-mae:1.47366\tvalidation_1-mae:3.79963\n",
      "[280]\tvalidation_0-mae:1.47179\tvalidation_1-mae:3.79206\n",
      "[281]\tvalidation_0-mae:1.47017\tvalidation_1-mae:3.77912\n",
      "[282]\tvalidation_0-mae:1.46841\tvalidation_1-mae:3.77035\n",
      "[283]\tvalidation_0-mae:1.46681\tvalidation_1-mae:3.76206\n",
      "[284]\tvalidation_0-mae:1.46487\tvalidation_1-mae:3.75027\n",
      "[285]\tvalidation_0-mae:1.46315\tvalidation_1-mae:3.74172\n",
      "[286]\tvalidation_0-mae:1.46146\tvalidation_1-mae:3.73087\n",
      "[287]\tvalidation_0-mae:1.45969\tvalidation_1-mae:3.72245\n",
      "[288]\tvalidation_0-mae:1.45828\tvalidation_1-mae:3.71319\n",
      "[289]\tvalidation_0-mae:1.45667\tvalidation_1-mae:3.70177\n",
      "[290]\tvalidation_0-mae:1.45500\tvalidation_1-mae:3.69486\n",
      "[291]\tvalidation_0-mae:1.45374\tvalidation_1-mae:3.68580\n",
      "[292]\tvalidation_0-mae:1.45216\tvalidation_1-mae:3.67459\n",
      "[293]\tvalidation_0-mae:1.45085\tvalidation_1-mae:3.66696\n",
      "[294]\tvalidation_0-mae:1.44928\tvalidation_1-mae:3.65590\n",
      "[295]\tvalidation_0-mae:1.44784\tvalidation_1-mae:3.64707\n",
      "[296]\tvalidation_0-mae:1.44653\tvalidation_1-mae:3.63803\n",
      "[297]\tvalidation_0-mae:1.44482\tvalidation_1-mae:3.62903\n",
      "[298]\tvalidation_0-mae:1.44342\tvalidation_1-mae:3.62041\n",
      "[299]\tvalidation_0-mae:1.44232\tvalidation_1-mae:3.61121\n"
     ]
    },
    {
     "name": "stdout",
     "output_type": "stream",
     "text": [
      "[300]\tvalidation_0-mae:1.44087\tvalidation_1-mae:3.60118\n",
      "[301]\tvalidation_0-mae:1.43953\tvalidation_1-mae:3.59276\n",
      "[302]\tvalidation_0-mae:1.43800\tvalidation_1-mae:3.58533\n",
      "[303]\tvalidation_0-mae:1.43688\tvalidation_1-mae:3.57584\n",
      "[304]\tvalidation_0-mae:1.43541\tvalidation_1-mae:3.56545\n",
      "[305]\tvalidation_0-mae:1.43414\tvalidation_1-mae:3.55756\n",
      "[306]\tvalidation_0-mae:1.43327\tvalidation_1-mae:3.54893\n",
      "[307]\tvalidation_0-mae:1.43182\tvalidation_1-mae:3.53914\n",
      "[308]\tvalidation_0-mae:1.43049\tvalidation_1-mae:3.53118\n",
      "[309]\tvalidation_0-mae:1.42916\tvalidation_1-mae:3.52000\n",
      "[310]\tvalidation_0-mae:1.42797\tvalidation_1-mae:3.51243\n",
      "[311]\tvalidation_0-mae:1.42655\tvalidation_1-mae:3.50290\n",
      "[312]\tvalidation_0-mae:1.42526\tvalidation_1-mae:3.49518\n",
      "[313]\tvalidation_0-mae:1.42394\tvalidation_1-mae:3.48752\n",
      "[314]\tvalidation_0-mae:1.42282\tvalidation_1-mae:3.47715\n",
      "[315]\tvalidation_0-mae:1.42171\tvalidation_1-mae:3.46521\n",
      "[316]\tvalidation_0-mae:1.42027\tvalidation_1-mae:3.45861\n",
      "[317]\tvalidation_0-mae:1.41928\tvalidation_1-mae:3.45058\n",
      "[318]\tvalidation_0-mae:1.41788\tvalidation_1-mae:3.44151\n",
      "[319]\tvalidation_0-mae:1.41667\tvalidation_1-mae:3.43420\n",
      "[320]\tvalidation_0-mae:1.41529\tvalidation_1-mae:3.42483\n",
      "[321]\tvalidation_0-mae:1.41438\tvalidation_1-mae:3.41861\n",
      "[322]\tvalidation_0-mae:1.41321\tvalidation_1-mae:3.41147\n",
      "[323]\tvalidation_0-mae:1.41218\tvalidation_1-mae:3.40487\n",
      "[324]\tvalidation_0-mae:1.41117\tvalidation_1-mae:3.39744\n",
      "[325]\tvalidation_0-mae:1.40997\tvalidation_1-mae:3.39109\n",
      "[326]\tvalidation_0-mae:1.40894\tvalidation_1-mae:3.38494\n",
      "[327]\tvalidation_0-mae:1.40791\tvalidation_1-mae:3.37785\n",
      "[328]\tvalidation_0-mae:1.40661\tvalidation_1-mae:3.36867\n",
      "[329]\tvalidation_0-mae:1.40553\tvalidation_1-mae:3.36168\n",
      "[330]\tvalidation_0-mae:1.40454\tvalidation_1-mae:3.35472\n",
      "[331]\tvalidation_0-mae:1.40352\tvalidation_1-mae:3.34785\n",
      "[332]\tvalidation_0-mae:1.40252\tvalidation_1-mae:3.34214\n",
      "[333]\tvalidation_0-mae:1.40131\tvalidation_1-mae:3.33621\n",
      "[334]\tvalidation_0-mae:1.40005\tvalidation_1-mae:3.32734\n",
      "[335]\tvalidation_0-mae:1.39880\tvalidation_1-mae:3.31762\n",
      "[336]\tvalidation_0-mae:1.39793\tvalidation_1-mae:3.31143\n",
      "[337]\tvalidation_0-mae:1.39679\tvalidation_1-mae:3.30703\n",
      "[338]\tvalidation_0-mae:1.39561\tvalidation_1-mae:3.29771\n",
      "[339]\tvalidation_0-mae:1.39464\tvalidation_1-mae:3.29123\n",
      "[340]\tvalidation_0-mae:1.39370\tvalidation_1-mae:3.28590\n",
      "[341]\tvalidation_0-mae:1.39270\tvalidation_1-mae:3.27953\n",
      "[342]\tvalidation_0-mae:1.39178\tvalidation_1-mae:3.27320\n",
      "[343]\tvalidation_0-mae:1.39154\tvalidation_1-mae:3.27081\n",
      "[344]\tvalidation_0-mae:1.39128\tvalidation_1-mae:3.26844\n",
      "[345]\tvalidation_0-mae:1.39030\tvalidation_1-mae:3.26221\n",
      "[346]\tvalidation_0-mae:1.38907\tvalidation_1-mae:3.25818\n",
      "[347]\tvalidation_0-mae:1.38839\tvalidation_1-mae:3.25314\n",
      "[348]\tvalidation_0-mae:1.38801\tvalidation_1-mae:3.25086\n",
      "[349]\tvalidation_0-mae:1.38675\tvalidation_1-mae:3.24177\n",
      "[350]\tvalidation_0-mae:1.38607\tvalidation_1-mae:3.23683\n",
      "[351]\tvalidation_0-mae:1.38569\tvalidation_1-mae:3.23462\n",
      "[352]\tvalidation_0-mae:1.38469\tvalidation_1-mae:3.22863\n",
      "[353]\tvalidation_0-mae:1.38407\tvalidation_1-mae:3.22378\n",
      "[354]\tvalidation_0-mae:1.38382\tvalidation_1-mae:3.22163\n",
      "[355]\tvalidation_0-mae:1.38279\tvalidation_1-mae:3.21739\n",
      "[356]\tvalidation_0-mae:1.38188\tvalidation_1-mae:3.21124\n",
      "[357]\tvalidation_0-mae:1.38162\tvalidation_1-mae:3.20916\n",
      "[358]\tvalidation_0-mae:1.38052\tvalidation_1-mae:3.20095\n",
      "[359]\tvalidation_0-mae:1.37946\tvalidation_1-mae:3.19585\n",
      "[360]\tvalidation_0-mae:1.37920\tvalidation_1-mae:3.19382\n",
      "[361]\tvalidation_0-mae:1.37789\tvalidation_1-mae:3.18584\n",
      "[362]\tvalidation_0-mae:1.37722\tvalidation_1-mae:3.18122\n",
      "[363]\tvalidation_0-mae:1.37655\tvalidation_1-mae:3.17662\n",
      "[364]\tvalidation_0-mae:1.37589\tvalidation_1-mae:3.17207\n",
      "[365]\tvalidation_0-mae:1.37513\tvalidation_1-mae:3.16687\n",
      "[366]\tvalidation_0-mae:1.37448\tvalidation_1-mae:3.16236\n",
      "[367]\tvalidation_0-mae:1.37382\tvalidation_1-mae:3.15788\n",
      "[368]\tvalidation_0-mae:1.37268\tvalidation_1-mae:3.14978\n",
      "[369]\tvalidation_0-mae:1.37202\tvalidation_1-mae:3.14538\n",
      "[370]\tvalidation_0-mae:1.37100\tvalidation_1-mae:3.14114\n",
      "[371]\tvalidation_0-mae:1.37038\tvalidation_1-mae:3.13679\n",
      "[372]\tvalidation_0-mae:1.36914\tvalidation_1-mae:3.12923\n",
      "[373]\tvalidation_0-mae:1.36863\tvalidation_1-mae:3.12490\n",
      "[374]\tvalidation_0-mae:1.36740\tvalidation_1-mae:3.11744\n",
      "[375]\tvalidation_0-mae:1.36654\tvalidation_1-mae:3.11272\n",
      "[376]\tvalidation_0-mae:1.36590\tvalidation_1-mae:3.10852\n",
      "[377]\tvalidation_0-mae:1.36469\tvalidation_1-mae:3.10104\n",
      "[378]\tvalidation_0-mae:1.36418\tvalidation_1-mae:3.09687\n",
      "[379]\tvalidation_0-mae:1.36259\tvalidation_1-mae:3.09111\n",
      "[380]\tvalidation_0-mae:1.36205\tvalidation_1-mae:3.08701\n",
      "[381]\tvalidation_0-mae:1.36115\tvalidation_1-mae:3.08244\n",
      "[382]\tvalidation_0-mae:1.36056\tvalidation_1-mae:3.07842\n",
      "[383]\tvalidation_0-mae:1.35911\tvalidation_1-mae:3.07279\n",
      "[384]\tvalidation_0-mae:1.35827\tvalidation_1-mae:3.06857\n",
      "[385]\tvalidation_0-mae:1.35797\tvalidation_1-mae:3.06697\n",
      "[386]\tvalidation_0-mae:1.35767\tvalidation_1-mae:3.06538\n",
      "[387]\tvalidation_0-mae:1.35623\tvalidation_1-mae:3.05986\n",
      "[388]\tvalidation_0-mae:1.35593\tvalidation_1-mae:3.05830\n",
      "[389]\tvalidation_0-mae:1.35492\tvalidation_1-mae:3.05323\n",
      "[390]\tvalidation_0-mae:1.35450\tvalidation_1-mae:3.04933\n",
      "[391]\tvalidation_0-mae:1.35409\tvalidation_1-mae:3.04546\n",
      "[392]\tvalidation_0-mae:1.35327\tvalidation_1-mae:3.04098\n",
      "[393]\tvalidation_0-mae:1.35263\tvalidation_1-mae:3.03718\n",
      "[394]\tvalidation_0-mae:1.35218\tvalidation_1-mae:3.03338\n",
      "[395]\tvalidation_0-mae:1.35134\tvalidation_1-mae:3.02939\n",
      "[396]\tvalidation_0-mae:1.35042\tvalidation_1-mae:3.02450\n",
      "[397]\tvalidation_0-mae:1.35002\tvalidation_1-mae:3.02075\n",
      "[398]\tvalidation_0-mae:1.34934\tvalidation_1-mae:3.01706\n",
      "[399]\tvalidation_0-mae:1.34854\tvalidation_1-mae:3.01275\n",
      "[400]\tvalidation_0-mae:1.34831\tvalidation_1-mae:3.01137\n",
      "[401]\tvalidation_0-mae:1.34729\tvalidation_1-mae:3.00659\n",
      "[402]\tvalidation_0-mae:1.34689\tvalidation_1-mae:3.00293\n",
      "[403]\tvalidation_0-mae:1.34656\tvalidation_1-mae:3.00159\n",
      "[404]\tvalidation_0-mae:1.34544\tvalidation_1-mae:2.99760\n",
      "[405]\tvalidation_0-mae:1.34525\tvalidation_1-mae:2.99585\n",
      "[406]\tvalidation_0-mae:1.34505\tvalidation_1-mae:2.99411\n",
      "[407]\tvalidation_0-mae:1.34459\tvalidation_1-mae:2.99053\n",
      "[408]\tvalidation_0-mae:1.34449\tvalidation_1-mae:2.98880\n",
      "[409]\tvalidation_0-mae:1.34357\tvalidation_1-mae:2.98384\n",
      "[410]\tvalidation_0-mae:1.34337\tvalidation_1-mae:2.98216\n",
      "[411]\tvalidation_0-mae:1.34241\tvalidation_1-mae:2.97797\n",
      "[412]\tvalidation_0-mae:1.34222\tvalidation_1-mae:2.97631\n",
      "[413]\tvalidation_0-mae:1.34175\tvalidation_1-mae:2.97282\n",
      "[414]\tvalidation_0-mae:1.34156\tvalidation_1-mae:2.97162\n",
      "[415]\tvalidation_0-mae:1.34065\tvalidation_1-mae:2.96677\n",
      "[416]\tvalidation_0-mae:1.33930\tvalidation_1-mae:2.96170\n",
      "[417]\tvalidation_0-mae:1.33909\tvalidation_1-mae:2.96011\n",
      "[418]\tvalidation_0-mae:1.33889\tvalidation_1-mae:2.95895\n",
      "[419]\tvalidation_0-mae:1.33797\tvalidation_1-mae:2.95662\n",
      "[420]\tvalidation_0-mae:1.33778\tvalidation_1-mae:2.95507\n",
      "[421]\tvalidation_0-mae:1.33743\tvalidation_1-mae:2.95161\n",
      "[422]\tvalidation_0-mae:1.33660\tvalidation_1-mae:2.94690\n",
      "[423]\tvalidation_0-mae:1.33569\tvalidation_1-mae:2.94223\n",
      "[424]\tvalidation_0-mae:1.33484\tvalidation_1-mae:2.94054\n",
      "[425]\tvalidation_0-mae:1.33407\tvalidation_1-mae:2.93748\n",
      "[426]\tvalidation_0-mae:1.33331\tvalidation_1-mae:2.93443\n",
      "[427]\tvalidation_0-mae:1.33243\tvalidation_1-mae:2.93223\n",
      "[428]\tvalidation_0-mae:1.33170\tvalidation_1-mae:2.92922\n",
      "[429]\tvalidation_0-mae:1.33085\tvalidation_1-mae:2.92705\n",
      "[430]\tvalidation_0-mae:1.33050\tvalidation_1-mae:2.92374\n",
      "[431]\tvalidation_0-mae:1.33030\tvalidation_1-mae:2.92231\n",
      "[432]\tvalidation_0-mae:1.32995\tvalidation_1-mae:2.91903\n",
      "[433]\tvalidation_0-mae:1.32974\tvalidation_1-mae:2.91763\n",
      "[434]\tvalidation_0-mae:1.32939\tvalidation_1-mae:2.91439\n",
      "[435]\tvalidation_0-mae:1.32868\tvalidation_1-mae:2.91275\n",
      "[436]\tvalidation_0-mae:1.32849\tvalidation_1-mae:2.91139\n",
      "[437]\tvalidation_0-mae:1.32813\tvalidation_1-mae:2.90819\n",
      "[438]\tvalidation_0-mae:1.32734\tvalidation_1-mae:2.90362\n",
      "[439]\tvalidation_0-mae:1.32715\tvalidation_1-mae:2.90265\n",
      "[440]\tvalidation_0-mae:1.32684\tvalidation_1-mae:2.90173\n",
      "[441]\tvalidation_0-mae:1.32647\tvalidation_1-mae:2.89858\n",
      "[442]\tvalidation_0-mae:1.32626\tvalidation_1-mae:2.89755\n",
      "[443]\tvalidation_0-mae:1.32589\tvalidation_1-mae:2.89443\n",
      "[444]\tvalidation_0-mae:1.32556\tvalidation_1-mae:2.89355\n",
      "[445]\tvalidation_0-mae:1.32519\tvalidation_1-mae:2.89046\n",
      "[446]\tvalidation_0-mae:1.32435\tvalidation_1-mae:2.88601\n"
     ]
    },
    {
     "name": "stdout",
     "output_type": "stream",
     "text": [
      "[447]\tvalidation_0-mae:1.32403\tvalidation_1-mae:2.88516\n",
      "[448]\tvalidation_0-mae:1.32324\tvalidation_1-mae:2.88075\n",
      "[449]\tvalidation_0-mae:1.32301\tvalidation_1-mae:2.87987\n",
      "[450]\tvalidation_0-mae:1.32262\tvalidation_1-mae:2.87685\n",
      "[451]\tvalidation_0-mae:1.32238\tvalidation_1-mae:2.87564\n",
      "[452]\tvalidation_0-mae:1.32199\tvalidation_1-mae:2.87264\n",
      "[453]\tvalidation_0-mae:1.32145\tvalidation_1-mae:2.87006\n",
      "[454]\tvalidation_0-mae:1.32138\tvalidation_1-mae:2.86921\n",
      "[455]\tvalidation_0-mae:1.32085\tvalidation_1-mae:2.86665\n",
      "[456]\tvalidation_0-mae:1.32077\tvalidation_1-mae:2.86582\n",
      "[457]\tvalidation_0-mae:1.32070\tvalidation_1-mae:2.86499\n",
      "[458]\tvalidation_0-mae:1.32030\tvalidation_1-mae:2.86206\n",
      "[459]\tvalidation_0-mae:1.31987\tvalidation_1-mae:2.86111\n",
      "[460]\tvalidation_0-mae:1.31948\tvalidation_1-mae:2.85820\n",
      "[461]\tvalidation_0-mae:1.31894\tvalidation_1-mae:2.85571\n",
      "[462]\tvalidation_0-mae:1.31886\tvalidation_1-mae:2.85493\n",
      "[463]\tvalidation_0-mae:1.31843\tvalidation_1-mae:2.85401\n",
      "[464]\tvalidation_0-mae:1.31804\tvalidation_1-mae:2.85115\n",
      "[465]\tvalidation_0-mae:1.31795\tvalidation_1-mae:2.85039\n",
      "[466]\tvalidation_0-mae:1.31765\tvalidation_1-mae:2.84931\n",
      "[467]\tvalidation_0-mae:1.31724\tvalidation_1-mae:2.84648\n",
      "[468]\tvalidation_0-mae:1.31669\tvalidation_1-mae:2.84406\n",
      "[469]\tvalidation_0-mae:1.31660\tvalidation_1-mae:2.84333\n",
      "[470]\tvalidation_0-mae:1.31616\tvalidation_1-mae:2.84246\n",
      "[471]\tvalidation_0-mae:1.31575\tvalidation_1-mae:2.83968\n",
      "[472]\tvalidation_0-mae:1.31520\tvalidation_1-mae:2.83730\n",
      "[473]\tvalidation_0-mae:1.31510\tvalidation_1-mae:2.83660\n",
      "[474]\tvalidation_0-mae:1.31470\tvalidation_1-mae:2.83386\n",
      "[475]\tvalidation_0-mae:1.31438\tvalidation_1-mae:2.83285\n",
      "[476]\tvalidation_0-mae:1.31393\tvalidation_1-mae:2.83204\n",
      "[477]\tvalidation_0-mae:1.31350\tvalidation_1-mae:2.82932\n",
      "[478]\tvalidation_0-mae:1.31310\tvalidation_1-mae:2.82664\n",
      "[479]\tvalidation_0-mae:1.31283\tvalidation_1-mae:2.82566\n",
      "[480]\tvalidation_0-mae:1.31242\tvalidation_1-mae:2.82301\n",
      "[481]\tvalidation_0-mae:1.31231\tvalidation_1-mae:2.82236\n",
      "[482]\tvalidation_0-mae:1.31160\tvalidation_1-mae:2.81893\n",
      "[483]\tvalidation_0-mae:1.31119\tvalidation_1-mae:2.81631\n",
      "[484]\tvalidation_0-mae:1.31072\tvalidation_1-mae:2.81555\n",
      "[485]\tvalidation_0-mae:1.31030\tvalidation_1-mae:2.81293\n",
      "[486]\tvalidation_0-mae:1.30983\tvalidation_1-mae:2.81221\n",
      "[487]\tvalidation_0-mae:1.30912\tvalidation_1-mae:2.80884\n",
      "[488]\tvalidation_0-mae:1.30869\tvalidation_1-mae:2.80624\n",
      "[489]\tvalidation_0-mae:1.30798\tvalidation_1-mae:2.80290\n",
      "[490]\tvalidation_0-mae:1.30751\tvalidation_1-mae:2.80218\n",
      "[491]\tvalidation_0-mae:1.30708\tvalidation_1-mae:2.79962\n",
      "[492]\tvalidation_0-mae:1.30637\tvalidation_1-mae:2.79632\n",
      "[493]\tvalidation_0-mae:1.30594\tvalidation_1-mae:2.79378\n",
      "[494]\tvalidation_0-mae:1.30552\tvalidation_1-mae:2.79127\n",
      "[495]\tvalidation_0-mae:1.30510\tvalidation_1-mae:2.79061\n",
      "[496]\tvalidation_0-mae:1.30440\tvalidation_1-mae:2.78748\n",
      "[497]\tvalidation_0-mae:1.30398\tvalidation_1-mae:2.78501\n",
      "[498]\tvalidation_0-mae:1.30385\tvalidation_1-mae:2.78446\n",
      "[499]\tvalidation_0-mae:1.30338\tvalidation_1-mae:2.78379\n"
     ]
    },
    {
     "data": {
      "text/plain": [
       "XGBRegressor(base_score=0.5, booster='gbtree', callbacks=None,\n",
       "             colsample_bylevel=1, colsample_bynode=1, colsample_bytree=1,\n",
       "             early_stopping_rounds=None, enable_categorical=False,\n",
       "             eval_metric=None, gamma=0, gpu_id=-1, grow_policy='depthwise',\n",
       "             importance_type=None, interaction_constraints='',\n",
       "             learning_rate=0.01, max_bin=256, max_cat_to_onehot=4,\n",
       "             max_delta_step=0, max_depth=6, max_leaves=0, min_child_weight=1,\n",
       "             missing=nan, monotone_constraints='()', n_estimators=500, n_jobs=0,\n",
       "             num_parallel_tree=1, predictor='auto', random_state=0, reg_alpha=0,\n",
       "             reg_lambda=1, ...)"
      ]
     },
     "execution_count": 58,
     "metadata": {},
     "output_type": "execute_result"
    }
   ],
   "source": [
    "reg = XGBRegressor(n_estimators=500, learning_rate=0.01)\n",
    "reg.fit(X_train, y_train,\n",
    "        eval_set=[(X_train, y_train), (X_test, y_test)],eval_metric='mae')"
   ]
  },
  {
   "cell_type": "code",
   "execution_count": 59,
   "id": "a6eb06c2",
   "metadata": {},
   "outputs": [],
   "source": [
    "predictions_xg = reg.predict(X_test)"
   ]
  },
  {
   "cell_type": "code",
   "execution_count": 60,
   "id": "7331aa89",
   "metadata": {},
   "outputs": [
    {
     "name": "stdout",
     "output_type": "stream",
     "text": [
      "Model: XGBoost\n",
      "Error = 3.465489672047403\n"
     ]
    },
    {
     "data": {
      "image/png": "[encoded data removed]",
      "text/plain": [
       "<Figure size 864x288 with 1 Axes>"
      ]
     },
     "metadata": {
      "needs_background": "light"
     },
     "output_type": "display_data"
    }
   ],
   "source": [
    "error_and_plot(y_test,predictions_xg,'XGBoost')"
   ]
  },
  {
   "cell_type": "markdown",
   "id": "a23ac8ec",
   "metadata": {},
   "source": [
    "## Forecasting using LSTM"
   ]
  },
  {
   "cell_type": "code",
   "execution_count": 61,
   "id": "1bb85986",
   "metadata": {},
   "outputs": [],
   "source": [
    "from keras.preprocessing.sequence import TimeseriesGenerator\n",
    "from keras.models import Sequential\n",
    "from keras.layers import LSTM,Dense"
   ]
  },
  {
   "cell_type": "markdown",
   "id": "311ffd90",
   "metadata": {},
   "source": [
    "### On Stationary data"
   ]
  },
  {
   "cell_type": "code",
   "execution_count": 62,
   "id": "d59ba669",
   "metadata": {},
   "outputs": [
    {
     "name": "stdout",
     "output_type": "stream",
     "text": [
      "Epoch 1/100\n",
      "200/200 [==============================] - 1s 1ms/step - loss: 0.3155\n",
      "Epoch 2/100\n",
      "200/200 [==============================] - 0s 1ms/step - loss: 0.3105\n",
      "Epoch 3/100\n",
      "200/200 [==============================] - 0s 2ms/step - loss: 0.3127\n",
      "Epoch 4/100\n",
      "200/200 [==============================] - 0s 1ms/step - loss: 0.3091\n",
      "Epoch 5/100\n",
      "200/200 [==============================] - 0s 1ms/step - loss: 0.3089\n",
      "Epoch 6/100\n",
      "200/200 [==============================] - 0s 2ms/step - loss: 0.3116\n",
      "Epoch 7/100\n",
      "200/200 [==============================] - 0s 1ms/step - loss: 0.3114\n",
      "Epoch 8/100\n",
      "200/200 [==============================] - 0s 1ms/step - loss: 0.3088\n",
      "Epoch 9/100\n",
      "200/200 [==============================] - 0s 1ms/step - loss: 0.3076\n",
      "Epoch 10/100\n",
      "200/200 [==============================] - 0s 2ms/step - loss: 0.3071\n",
      "Epoch 11/100\n",
      "200/200 [==============================] - 0s 1ms/step - loss: 0.3053\n",
      "Epoch 12/100\n",
      "200/200 [==============================] - 0s 1ms/step - loss: 0.3044\n",
      "Epoch 13/100\n",
      "200/200 [==============================] - 0s 1ms/step - loss: 0.3021\n",
      "Epoch 14/100\n",
      "200/200 [==============================] - 0s 2ms/step - loss: 0.3369\n",
      "Epoch 15/100\n",
      "200/200 [==============================] - 0s 1ms/step - loss: 0.3097\n",
      "Epoch 16/100\n",
      "200/200 [==============================] - 0s 1ms/step - loss: 0.3038\n",
      "Epoch 17/100\n",
      "200/200 [==============================] - 0s 2ms/step - loss: 0.3030\n",
      "Epoch 18/100\n",
      "200/200 [==============================] - 0s 1ms/step - loss: 0.2984\n",
      "Epoch 19/100\n",
      "200/200 [==============================] - 0s 1ms/step - loss: 0.2956\n",
      "Epoch 20/100\n",
      "200/200 [==============================] - 0s 1ms/step - loss: 0.2934\n",
      "Epoch 21/100\n",
      "200/200 [==============================] - 0s 2ms/step - loss: 0.2849\n",
      "Epoch 22/100\n",
      "200/200 [==============================] - 0s 1ms/step - loss: 0.2887\n",
      "Epoch 23/100\n",
      "200/200 [==============================] - 0s 1ms/step - loss: 0.2802\n",
      "Epoch 24/100\n",
      "200/200 [==============================] - 0s 2ms/step - loss: 0.2760\n",
      "Epoch 25/100\n",
      "200/200 [==============================] - 0s 1ms/step - loss: 0.2649\n",
      "Epoch 26/100\n",
      "200/200 [==============================] - 0s 1ms/step - loss: 0.2514\n",
      "Epoch 27/100\n",
      "200/200 [==============================] - 0s 1ms/step - loss: 0.2704\n",
      "Epoch 28/100\n",
      "200/200 [==============================] - 0s 2ms/step - loss: 0.2578\n",
      "Epoch 29/100\n",
      "200/200 [==============================] - 0s 1ms/step - loss: 0.2460\n",
      "Epoch 30/100\n",
      "200/200 [==============================] - 0s 1ms/step - loss: 0.2416\n",
      "Epoch 31/100\n",
      "200/200 [==============================] - 0s 1ms/step - loss: 0.2477\n",
      "Epoch 32/100\n",
      "200/200 [==============================] - 0s 2ms/step - loss: 0.2375\n",
      "Epoch 33/100\n",
      "200/200 [==============================] - 0s 1ms/step - loss: 0.2290\n",
      "Epoch 34/100\n",
      "200/200 [==============================] - 0s 1ms/step - loss: 0.2507\n",
      "Epoch 35/100\n",
      "200/200 [==============================] - 0s 1ms/step - loss: 0.2323\n",
      "Epoch 36/100\n",
      "200/200 [==============================] - 0s 2ms/step - loss: 0.2275\n",
      "Epoch 37/100\n",
      "200/200 [==============================] - 0s 1ms/step - loss: 0.2240\n",
      "Epoch 38/100\n",
      "200/200 [==============================] - 0s 1ms/step - loss: 0.2343\n",
      "Epoch 39/100\n",
      "200/200 [==============================] - 0s 2ms/step - loss: 0.2074\n",
      "Epoch 40/100\n",
      "200/200 [==============================] - 0s 1ms/step - loss: 0.2079\n",
      "Epoch 41/100\n",
      "200/200 [==============================] - 0s 1ms/step - loss: 0.1999\n",
      "Epoch 42/100\n",
      "200/200 [==============================] - 0s 1ms/step - loss: 0.1977\n",
      "Epoch 43/100\n",
      "200/200 [==============================] - 0s 2ms/step - loss: 0.1898\n",
      "Epoch 44/100\n",
      "200/200 [==============================] - 0s 1ms/step - loss: 0.1916\n",
      "Epoch 45/100\n",
      "200/200 [==============================] - 0s 1ms/step - loss: 0.1924\n",
      "Epoch 46/100\n",
      "200/200 [==============================] - 0s 1ms/step - loss: 0.1814\n",
      "Epoch 47/100\n",
      "200/200 [==============================] - 0s 2ms/step - loss: 0.1730\n",
      "Epoch 48/100\n",
      "200/200 [==============================] - 0s 1ms/step - loss: 0.1653\n",
      "Epoch 49/100\n",
      "200/200 [==============================] - 0s 1ms/step - loss: 0.1583\n",
      "Epoch 50/100\n",
      "200/200 [==============================] - 0s 2ms/step - loss: 0.1569\n",
      "Epoch 51/100\n",
      "200/200 [==============================] - 0s 1ms/step - loss: 0.1621\n",
      "Epoch 52/100\n",
      "200/200 [==============================] - 0s 1ms/step - loss: 0.1647\n",
      "Epoch 53/100\n",
      "200/200 [==============================] - 0s 1ms/step - loss: 0.1515\n",
      "Epoch 54/100\n",
      "200/200 [==============================] - 0s 2ms/step - loss: 0.1550\n",
      "Epoch 55/100\n",
      "200/200 [==============================] - 0s 1ms/step - loss: 0.1444\n",
      "Epoch 56/100\n",
      "200/200 [==============================] - 0s 1ms/step - loss: 0.1385\n",
      "Epoch 57/100\n",
      "200/200 [==============================] - 0s 1ms/step - loss: 0.1585\n",
      "Epoch 58/100\n",
      "200/200 [==============================] - 0s 1ms/step - loss: 0.1472\n",
      "Epoch 59/100\n",
      "200/200 [==============================] - 0s 1ms/step - loss: 0.1334\n",
      "Epoch 60/100\n",
      "200/200 [==============================] - 0s 1ms/step - loss: 0.1354\n",
      "Epoch 61/100\n",
      "200/200 [==============================] - 0s 1ms/step - loss: 0.1362\n",
      "Epoch 62/100\n",
      "200/200 [==============================] - 0s 1ms/step - loss: 0.1350\n",
      "Epoch 63/100\n",
      "200/200 [==============================] - 0s 1ms/step - loss: 0.1321\n",
      "Epoch 64/100\n",
      "200/200 [==============================] - 0s 1ms/step - loss: 0.1223\n",
      "Epoch 65/100\n",
      "200/200 [==============================] - 0s 1ms/step - loss: 0.1258\n",
      "Epoch 66/100\n",
      "200/200 [==============================] - 0s 1ms/step - loss: 0.1237\n",
      "Epoch 67/100\n",
      "200/200 [==============================] - 0s 1ms/step - loss: 0.1166\n",
      "Epoch 68/100\n",
      "200/200 [==============================] - 0s 1ms/step - loss: 0.1152\n",
      "Epoch 69/100\n",
      "200/200 [==============================] - 0s 1ms/step - loss: 0.1083\n",
      "Epoch 70/100\n",
      "200/200 [==============================] - 0s 1ms/step - loss: 0.1069\n",
      "Epoch 71/100\n",
      "200/200 [==============================] - 0s 1ms/step - loss: 0.1136\n",
      "Epoch 72/100\n",
      "200/200 [==============================] - 0s 1ms/step - loss: 0.1046\n",
      "Epoch 73/100\n",
      "200/200 [==============================] - 0s 1ms/step - loss: 0.0904\n",
      "Epoch 74/100\n",
      "200/200 [==============================] - 0s 1ms/step - loss: 0.0969\n",
      "Epoch 75/100\n",
      "200/200 [==============================] - 0s 1ms/step - loss: 0.1030\n",
      "Epoch 76/100\n",
      "200/200 [==============================] - 0s 1ms/step - loss: 0.0855\n",
      "Epoch 77/100\n",
      "200/200 [==============================] - 0s 1ms/step - loss: 0.0989\n",
      "Epoch 78/100\n",
      "200/200 [==============================] - 0s 1ms/step - loss: 0.0866\n",
      "Epoch 79/100\n",
      "200/200 [==============================] - 0s 1ms/step - loss: 0.0750\n",
      "Epoch 80/100\n",
      "200/200 [==============================] - 0s 1ms/step - loss: 0.0744\n",
      "Epoch 81/100\n",
      "200/200 [==============================] - 0s 2ms/step - loss: 0.0763\n",
      "Epoch 82/100\n",
      "200/200 [==============================] - 0s 1ms/step - loss: 0.0789\n",
      "Epoch 83/100\n",
      "200/200 [==============================] - 0s 1ms/step - loss: 0.0665\n",
      "Epoch 84/100\n",
      "200/200 [==============================] - 0s 1ms/step - loss: 0.0823\n",
      "Epoch 85/100\n",
      "200/200 [==============================] - 0s 1ms/step - loss: 0.0759\n",
      "Epoch 86/100\n",
      "200/200 [==============================] - 0s 1ms/step - loss: 0.0702\n",
      "Epoch 87/100\n",
      "200/200 [==============================] - 0s 1ms/step - loss: 0.0633\n",
      "Epoch 88/100\n",
      "200/200 [==============================] - 0s 1ms/step - loss: 0.0710\n",
      "Epoch 89/100\n",
      "200/200 [==============================] - 0s 1ms/step - loss: 0.0674\n",
      "Epoch 90/100\n",
      "200/200 [==============================] - 0s 1ms/step - loss: 0.0614\n",
      "Epoch 91/100\n",
      "200/200 [==============================] - 0s 1ms/step - loss: 0.0645\n",
      "Epoch 92/100\n",
      "200/200 [==============================] - 0s 1ms/step - loss: 0.0642\n",
      "Epoch 93/100\n",
      "200/200 [==============================] - 0s 1ms/step - loss: 0.0582\n",
      "Epoch 94/100\n",
      "200/200 [==============================] - 0s 1ms/step - loss: 0.0621\n",
      "Epoch 95/100\n",
      "200/200 [==============================] - 0s 1ms/step - loss: 0.0598\n",
      "Epoch 96/100\n",
      "200/200 [==============================] - 0s 1ms/step - loss: 0.0538\n",
      "Epoch 97/100\n",
      "200/200 [==============================] - 0s 1ms/step - loss: 0.0852\n",
      "Epoch 98/100\n",
      "200/200 [==============================] - 0s 1ms/step - loss: 0.0545\n",
      "Epoch 99/100\n",
      "200/200 [==============================] - 0s 1ms/step - loss: 0.0563\n",
      "Epoch 100/100\n",
      "200/200 [==============================] - 0s 2ms/step - loss: 0.0467\n"
     ]
    },
    {
     "data": {
      "text/plain": [
       "<keras.callbacks.History at 0x1ef71c10700>"
      ]
     },
     "execution_count": 62,
     "metadata": {},
     "output_type": "execute_result"
    }
   ],
   "source": [
    "train = df['sft_1'].iloc[:205] \n",
    "test = df['sft_1'].iloc[205:]\n",
    "\n",
    "train = train.to_numpy()\n",
    "test = test.to_numpy()\n",
    "\n",
    "n_input = 5\n",
    "n_features = 1 \n",
    "generator = TimeseriesGenerator(train,train,length=n_input,batch_size=1)\n",
    "\n",
    "model1 = Sequential()\n",
    "model1.add(LSTM(150, activation='relu', input_shape=(n_input, n_features)))\n",
    "model1.add(Dense(10, activation='relu'))\n",
    "model1.add(Dense(1))\n",
    "model1.compile(optimizer='adam', loss='mse')\n",
    "\n",
    "model1.fit(generator,epochs=100)"
   ]
  },
  {
   "cell_type": "code",
   "execution_count": 63,
   "id": "7f0c77f1",
   "metadata": {},
   "outputs": [
    {
     "data": {
      "text/plain": [
       "[<matplotlib.lines.Line2D at 0x1ef74fb07f0>]"
      ]
     },
     "execution_count": 63,
     "metadata": {},
     "output_type": "execute_result"
    },
    {
     "data": {
      "image/png": "[encoded data removed]",
      "text/plain": [
       "<Figure size 432x288 with 1 Axes>"
      ]
     },
     "metadata": {
      "needs_background": "light"
     },
     "output_type": "display_data"
    }
   ],
   "source": [
    "loss_1 = model1.history.history['loss']\n",
    "plt.plot(range(len(loss_1)),loss_1)"
   ]
  },
  {
   "cell_type": "code",
   "execution_count": 64,
   "id": "0a3eb958",
   "metadata": {},
   "outputs": [],
   "source": [
    "test_predictions_1 = []\n",
    "\n",
    "first_eval_batch = train[-n_input:]\n",
    "current_batch = first_eval_batch.reshape((1, n_input, n_features))\n",
    "\n",
    "for i in range(len(test)):\n",
    "    current_pred = model1.predict(current_batch)[0]\n",
    "    test_predictions_1.append(current_pred) \n",
    "    current_batch = np.append(current_batch[:,1:,:],[[current_pred]],axis=1)"
   ]
  },
  {
   "cell_type": "code",
   "execution_count": 65,
   "id": "c40c793b",
   "metadata": {},
   "outputs": [
    {
     "name": "stdout",
     "output_type": "stream",
     "text": [
      "Model: LSTM RNN on stationary data\n",
      "Error = 0.5063732681925973\n"
     ]
    },
    {
     "data": {
      "image/png": "[encoded data removed]",
      "text/plain": [
       "<Figure size 864x288 with 1 Axes>"
      ]
     },
     "metadata": {
      "needs_background": "light"
     },
     "output_type": "display_data"
    }
   ],
   "source": [
    "error_and_plot(test,test_predictions_1,'LSTM RNN on stationary data')"
   ]
  },
  {
   "cell_type": "markdown",
   "id": "99bcdba4",
   "metadata": {},
   "source": [
    "### Scaled data"
   ]
  },
  {
   "cell_type": "code",
   "execution_count": 67,
   "id": "b09519c5",
   "metadata": {},
   "outputs": [],
   "source": [
    "from sklearn.preprocessing import MinMaxScaler"
   ]
  },
  {
   "cell_type": "code",
   "execution_count": 68,
   "id": "cb4aeea9",
   "metadata": {},
   "outputs": [],
   "source": [
    "df = pd.read_excel(\"CO2 dataset.xlsx\")\n",
    "df.index = pd.to_datetime(df['Year'], format='%Y')\n",
    "df.drop('Year',axis=1, inplace=True)"
   ]
  },
  {
   "cell_type": "code",
   "execution_count": 69,
   "id": "7f05b632",
   "metadata": {},
   "outputs": [
    {
     "name": "stdout",
     "output_type": "stream",
     "text": [
      "Epoch 1/50\n",
      "196/196 [==============================] - 1s 1ms/step - loss: 0.0302\n",
      "Epoch 2/50\n",
      "196/196 [==============================] - 0s 2ms/step - loss: 0.0026\n",
      "Epoch 3/50\n",
      "196/196 [==============================] - 0s 1ms/step - loss: 0.0024\n",
      "Epoch 4/50\n",
      "196/196 [==============================] - 0s 1ms/step - loss: 0.0022\n",
      "Epoch 5/50\n",
      "196/196 [==============================] - 0s 1ms/step - loss: 0.0021\n",
      "Epoch 6/50\n",
      "196/196 [==============================] - 0s 2ms/step - loss: 0.0020\n",
      "Epoch 7/50\n",
      "196/196 [==============================] - 0s 1ms/step - loss: 0.0025\n",
      "Epoch 8/50\n",
      "196/196 [==============================] - 0s 1ms/step - loss: 0.0024\n",
      "Epoch 9/50\n",
      "196/196 [==============================] - 0s 1ms/step - loss: 0.0018\n",
      "Epoch 10/50\n",
      "196/196 [==============================] - 0s 2ms/step - loss: 0.0019\n",
      "Epoch 11/50\n",
      "196/196 [==============================] - 0s 1ms/step - loss: 0.0018\n",
      "Epoch 12/50\n",
      "196/196 [==============================] - 0s 1ms/step - loss: 0.0020\n",
      "Epoch 13/50\n",
      "196/196 [==============================] - 0s 1ms/step - loss: 0.0016\n",
      "Epoch 14/50\n",
      "196/196 [==============================] - 0s 1ms/step - loss: 0.0019\n",
      "Epoch 15/50\n",
      "196/196 [==============================] - 0s 1ms/step - loss: 0.0018\n",
      "Epoch 16/50\n",
      "196/196 [==============================] - 0s 1ms/step - loss: 0.0022\n",
      "Epoch 17/50\n",
      "196/196 [==============================] - 0s 1ms/step - loss: 0.0017\n",
      "Epoch 18/50\n",
      "196/196 [==============================] - 1s 3ms/step - loss: 0.0014\n",
      "Epoch 19/50\n",
      "196/196 [==============================] - 1s 4ms/step - loss: 0.0016\n",
      "Epoch 20/50\n",
      "196/196 [==============================] - 1s 4ms/step - loss: 0.0014\n",
      "Epoch 21/50\n",
      "196/196 [==============================] - 0s 1ms/step - loss: 0.0016\n",
      "Epoch 22/50\n",
      "196/196 [==============================] - 0s 2ms/step - loss: 0.0012\n",
      "Epoch 23/50\n",
      "196/196 [==============================] - 0s 1ms/step - loss: 0.0014\n",
      "Epoch 24/50\n",
      "196/196 [==============================] - 0s 1ms/step - loss: 0.0016\n",
      "Epoch 25/50\n",
      "196/196 [==============================] - 0s 1ms/step - loss: 0.0013\n",
      "Epoch 26/50\n",
      "196/196 [==============================] - 0s 2ms/step - loss: 0.0015\n",
      "Epoch 27/50\n",
      "196/196 [==============================] - 0s 1ms/step - loss: 0.0014\n",
      "Epoch 28/50\n",
      "196/196 [==============================] - 0s 1ms/step - loss: 0.0016\n",
      "Epoch 29/50\n",
      "196/196 [==============================] - 0s 1ms/step - loss: 0.0017\n",
      "Epoch 30/50\n",
      "196/196 [==============================] - 0s 2ms/step - loss: 0.0011\n",
      "Epoch 31/50\n",
      "196/196 [==============================] - 0s 1ms/step - loss: 0.0015\n",
      "Epoch 32/50\n",
      "196/196 [==============================] - 1s 3ms/step - loss: 0.0013\n",
      "Epoch 33/50\n",
      "196/196 [==============================] - 1s 4ms/step - loss: 0.0013\n",
      "Epoch 34/50\n",
      "196/196 [==============================] - 0s 2ms/step - loss: 0.0013\n",
      "Epoch 35/50\n",
      "196/196 [==============================] - 0s 2ms/step - loss: 0.0020\n",
      "Epoch 36/50\n",
      "196/196 [==============================] - 0s 1ms/step - loss: 0.0013\n",
      "Epoch 37/50\n",
      "196/196 [==============================] - 0s 1ms/step - loss: 0.0015\n",
      "Epoch 38/50\n",
      "196/196 [==============================] - 0s 1ms/step - loss: 0.0013\n",
      "Epoch 39/50\n",
      "196/196 [==============================] - 0s 1ms/step - loss: 0.0014\n",
      "Epoch 40/50\n",
      "196/196 [==============================] - 0s 1ms/step - loss: 0.0013\n",
      "Epoch 41/50\n",
      "196/196 [==============================] - 0s 1ms/step - loss: 0.0012\n",
      "Epoch 42/50\n",
      "196/196 [==============================] - 0s 1ms/step - loss: 0.0012\n",
      "Epoch 43/50\n",
      "196/196 [==============================] - 0s 2ms/step - loss: 0.0012\n",
      "Epoch 44/50\n",
      "196/196 [==============================] - 1s 4ms/step - loss: 0.0012\n",
      "Epoch 45/50\n",
      "196/196 [==============================] - 0s 1ms/step - loss: 0.0011\n",
      "Epoch 46/50\n",
      "196/196 [==============================] - 0s 1ms/step - loss: 0.0014\n",
      "Epoch 47/50\n",
      "196/196 [==============================] - 0s 1ms/step - loss: 0.0012\n",
      "Epoch 48/50\n",
      "196/196 [==============================] - 0s 1ms/step - loss: 0.0013\n",
      "Epoch 49/50\n",
      "196/196 [==============================] - 0s 1ms/step - loss: 0.0011\n",
      "Epoch 50/50\n",
      "196/196 [==============================] - 0s 1ms/step - loss: 0.0012\n"
     ]
    },
    {
     "data": {
      "text/plain": [
       "<keras.callbacks.History at 0x1ef7509e4f0>"
      ]
     },
     "execution_count": 69,
     "metadata": {},
     "output_type": "execute_result"
    }
   ],
   "source": [
    "scaler = MinMaxScaler()\n",
    "\n",
    "train = df.iloc[:200] \n",
    "test = df.iloc[200:]\n",
    "\n",
    "scaled_train = scaler.fit_transform(train)\n",
    "scaled_test = scaler.transform(test)\n",
    "\n",
    "n_input = 4\n",
    "n_features = 1 \n",
    "generator = TimeseriesGenerator(scaled_train,scaled_train,length=n_input,batch_size=1)\n",
    "\n",
    "model2 = Sequential()\n",
    "model2.add(LSTM(150, activation='relu', input_shape=(n_input, n_features)))\n",
    "model2.add(Dense(10, activation='relu'))\n",
    "model2.add(Dense(1))\n",
    "model2.compile(optimizer='adam', loss='mse')\n",
    "\n",
    "model2.fit(generator,epochs=50)"
   ]
  },
  {
   "cell_type": "code",
   "execution_count": 70,
   "id": "56d0d3c3",
   "metadata": {},
   "outputs": [],
   "source": [
    "test_predictions_2 = []\n",
    "\n",
    "first_eval_batch = scaled_train[-n_input:]\n",
    "current_batch = first_eval_batch.reshape((1, n_input, n_features))\n",
    "\n",
    "for i in range(len(test)):\n",
    "    current_pred = model2.predict(current_batch)[0]\n",
    "    test_predictions_2.append(current_pred) \n",
    "    current_batch = np.append(current_batch[:,1:,:],[[current_pred]],axis=1)"
   ]
  },
  {
   "cell_type": "code",
   "execution_count": 71,
   "id": "6e131e4d",
   "metadata": {},
   "outputs": [],
   "source": [
    "true_predictions_2 = scaler.inverse_transform(test_predictions_2)"
   ]
  },
  {
   "cell_type": "code",
   "execution_count": 72,
   "id": "64ad1904",
   "metadata": {},
   "outputs": [
    {
     "name": "stdout",
     "output_type": "stream",
     "text": [
      "Model: LSTM with scaled data\n",
      "Error = 4.203535088426849\n"
     ]
    },
    {
     "data": {
      "image/png": "[encoded data removed]",
      "text/plain": [
       "<Figure size 864x288 with 1 Axes>"
      ]
     },
     "metadata": {
      "needs_background": "light"
     },
     "output_type": "display_data"
    }
   ],
   "source": [
    "error_and_plot(test,true_predictions_2,'LSTM with scaled data')"
   ]
  },
  {
   "cell_type": "code",
   "execution_count": 73,
   "id": "15e589d4",
   "metadata": {},
   "outputs": [
    {
     "data": {
      "text/plain": [
       "array([[16.18464759],\n",
       "       [15.43054772],\n",
       "       [14.6914601 ],\n",
       "       [14.00118074],\n",
       "       [13.38380083],\n",
       "       [12.83556079],\n",
       "       [12.34816051],\n",
       "       [11.91277919],\n",
       "       [11.52216671],\n",
       "       [11.17062513],\n",
       "       [10.85348481],\n",
       "       [10.56688966],\n",
       "       [10.3076398 ],\n",
       "       [10.07292694],\n",
       "       [ 9.86028665]])"
      ]
     },
     "execution_count": 73,
     "metadata": {},
     "output_type": "execute_result"
    }
   ],
   "source": [
    "true_predictions_2"
   ]
  },
  {
   "cell_type": "markdown",
   "id": "31284577",
   "metadata": {},
   "source": [
    "### Unscaled data"
   ]
  },
  {
   "cell_type": "code",
   "execution_count": 74,
   "id": "00110e92",
   "metadata": {},
   "outputs": [
    {
     "data": {
      "text/plain": [
       "215"
      ]
     },
     "execution_count": 74,
     "metadata": {},
     "output_type": "execute_result"
    }
   ],
   "source": [
    "len(df)"
   ]
  },
  {
   "cell_type": "code",
   "execution_count": 75,
   "id": "2cb7d581",
   "metadata": {},
   "outputs": [
    {
     "name": "stdout",
     "output_type": "stream",
     "text": [
      "Epoch 1/50\n",
      "200/200 [==============================] - 1s 2ms/step - loss: 11.2852\n",
      "Epoch 2/50\n",
      "200/200 [==============================] - 0s 1ms/step - loss: 1.1688\n",
      "Epoch 3/50\n",
      "200/200 [==============================] - 0s 1ms/step - loss: 1.3765\n",
      "Epoch 4/50\n",
      "200/200 [==============================] - 0s 1ms/step - loss: 0.9696\n",
      "Epoch 5/50\n",
      "200/200 [==============================] - 0s 2ms/step - loss: 0.7965\n",
      "Epoch 6/50\n",
      "200/200 [==============================] - 0s 1ms/step - loss: 0.7607\n",
      "Epoch 7/50\n",
      "200/200 [==============================] - 0s 1ms/step - loss: 0.6679\n",
      "Epoch 8/50\n",
      "200/200 [==============================] - 0s 1ms/step - loss: 0.6590\n",
      "Epoch 9/50\n",
      "200/200 [==============================] - 0s 1ms/step - loss: 0.6486\n",
      "Epoch 10/50\n",
      "200/200 [==============================] - 0s 1ms/step - loss: 0.8020\n",
      "Epoch 11/50\n",
      "200/200 [==============================] - 0s 1ms/step - loss: 0.5408\n",
      "Epoch 12/50\n",
      "200/200 [==============================] - 0s 2ms/step - loss: 0.6842\n",
      "Epoch 13/50\n",
      "200/200 [==============================] - 0s 1ms/step - loss: 0.5862\n",
      "Epoch 14/50\n",
      "200/200 [==============================] - 0s 1ms/step - loss: 0.5845\n",
      "Epoch 15/50\n",
      "200/200 [==============================] - 1s 4ms/step - loss: 0.7413\n",
      "Epoch 16/50\n",
      "200/200 [==============================] - 0s 2ms/step - loss: 0.5121\n",
      "Epoch 17/50\n",
      "200/200 [==============================] - 1s 3ms/step - loss: 0.6161\n",
      "Epoch 18/50\n",
      "200/200 [==============================] - 0s 2ms/step - loss: 0.7660\n",
      "Epoch 19/50\n",
      "200/200 [==============================] - 0s 2ms/step - loss: 0.4390\n",
      "Epoch 20/50\n",
      "200/200 [==============================] - 0s 2ms/step - loss: 0.5485\n",
      "Epoch 21/50\n",
      "200/200 [==============================] - 0s 1ms/step - loss: 0.4489\n",
      "Epoch 22/50\n",
      "200/200 [==============================] - 0s 1ms/step - loss: 0.4679\n",
      "Epoch 23/50\n",
      "200/200 [==============================] - 0s 1ms/step - loss: 0.5137\n",
      "Epoch 24/50\n",
      "200/200 [==============================] - 0s 2ms/step - loss: 0.5286\n",
      "Epoch 25/50\n",
      "200/200 [==============================] - 0s 1ms/step - loss: 0.6034\n",
      "Epoch 26/50\n",
      "200/200 [==============================] - 0s 1ms/step - loss: 0.4659\n",
      "Epoch 27/50\n",
      "200/200 [==============================] - 0s 2ms/step - loss: 0.3948\n",
      "Epoch 28/50\n",
      "200/200 [==============================] - 0s 1ms/step - loss: 0.5038\n",
      "Epoch 29/50\n",
      "200/200 [==============================] - 0s 2ms/step - loss: 0.4721\n",
      "Epoch 30/50\n",
      "200/200 [==============================] - 0s 1ms/step - loss: 0.3938\n",
      "Epoch 31/50\n",
      "200/200 [==============================] - 0s 2ms/step - loss: 0.4038\n",
      "Epoch 32/50\n",
      "200/200 [==============================] - 0s 1ms/step - loss: 0.5127\n",
      "Epoch 33/50\n",
      "200/200 [==============================] - 0s 1ms/step - loss: 0.5268\n",
      "Epoch 34/50\n",
      "200/200 [==============================] - 0s 2ms/step - loss: 0.5105\n",
      "Epoch 35/50\n",
      "200/200 [==============================] - 0s 1ms/step - loss: 0.3902\n",
      "Epoch 36/50\n",
      "200/200 [==============================] - 0s 1ms/step - loss: 0.4120\n",
      "Epoch 37/50\n",
      "200/200 [==============================] - 0s 1ms/step - loss: 0.4256\n",
      "Epoch 38/50\n",
      "200/200 [==============================] - 0s 2ms/step - loss: 0.3996\n",
      "Epoch 39/50\n",
      "200/200 [==============================] - 0s 1ms/step - loss: 0.4388\n",
      "Epoch 40/50\n",
      "200/200 [==============================] - 0s 1ms/step - loss: 0.4225\n",
      "Epoch 41/50\n",
      "200/200 [==============================] - 0s 2ms/step - loss: 0.4375\n",
      "Epoch 42/50\n",
      "200/200 [==============================] - 0s 2ms/step - loss: 0.4246\n",
      "Epoch 43/50\n",
      "200/200 [==============================] - 0s 1ms/step - loss: 0.3421\n",
      "Epoch 44/50\n",
      "200/200 [==============================] - 1s 3ms/step - loss: 0.4204\n",
      "Epoch 45/50\n",
      "200/200 [==============================] - 1s 4ms/step - loss: 0.4577\n",
      "Epoch 46/50\n",
      "200/200 [==============================] - 1s 4ms/step - loss: 0.3957\n",
      "Epoch 47/50\n",
      "200/200 [==============================] - 1s 5ms/step - loss: 0.3928\n",
      "Epoch 48/50\n",
      "200/200 [==============================] - 1s 4ms/step - loss: 0.4700\n",
      "Epoch 49/50\n",
      "200/200 [==============================] - 1s 5ms/step - loss: 0.3939\n",
      "Epoch 50/50\n",
      "200/200 [==============================] - 1s 3ms/step - loss: 0.3701\n"
     ]
    },
    {
     "data": {
      "text/plain": [
       "<keras.callbacks.History at 0x1ef77736790>"
      ]
     },
     "execution_count": 75,
     "metadata": {},
     "output_type": "execute_result"
    }
   ],
   "source": [
    "train = df.iloc[:205] \n",
    "test = df.iloc[205:]\n",
    "\n",
    "train = train.to_numpy()\n",
    "test = test.to_numpy()\n",
    "\n",
    "n_input = 5\n",
    "n_features = 1 \n",
    "generator = TimeseriesGenerator(train,train,length=n_input,batch_size=1)\n",
    "\n",
    "model3 = Sequential()\n",
    "model3.add(LSTM(150, activation='relu', input_shape=(n_input, n_features)))\n",
    "model3.add(Dense(10, activation='relu'))\n",
    "model3.add(Dense(1))\n",
    "model3.compile(optimizer='adam', loss='mse')\n",
    "\n",
    "model3.fit(generator,epochs=50)"
   ]
  },
  {
   "cell_type": "code",
   "execution_count": 76,
   "id": "467005ad",
   "metadata": {},
   "outputs": [
    {
     "data": {
      "text/plain": [
       "[<matplotlib.lines.Line2D at 0x1ef789d8370>]"
      ]
     },
     "execution_count": 76,
     "metadata": {},
     "output_type": "execute_result"
    },
    {
     "data": {
      "image/png": "[encoded data removed]",
      "text/plain": [
       "<Figure size 432x288 with 1 Axes>"
      ]
     },
     "metadata": {
      "needs_background": "light"
     },
     "output_type": "display_data"
    }
   ],
   "source": [
    "loss_3 = model3.history.history['loss']\n",
    "plt.plot(range(len(loss_3)),loss_3)"
   ]
  },
  {
   "cell_type": "code",
   "execution_count": 77,
   "id": "48523d5f",
   "metadata": {},
   "outputs": [],
   "source": [
    "test_predictions_1 = []\n",
    "\n",
    "first_eval_batch = train[-n_input:]\n",
    "current_batch = first_eval_batch.reshape((1, n_input, n_features))\n",
    "\n",
    "for i in range(len(test)):\n",
    "    current_pred = model3.predict(current_batch)[0]\n",
    "    test_predictions_1.append(current_pred) \n",
    "    current_batch = np.append(current_batch[:,1:,:],[[current_pred]],axis=1)"
   ]
  },
  {
   "cell_type": "code",
   "execution_count": 78,
   "id": "c49b0151",
   "metadata": {},
   "outputs": [
    {
     "name": "stdout",
     "output_type": "stream",
     "text": [
      "Model: LSTM and Unscaled data\n",
      "Error = 5.544046986974668\n"
     ]
    },
    {
     "data": {
      "image/png": "[encoded data removed]",
      "text/plain": [
       "<Figure size 864x288 with 1 Axes>"
      ]
     },
     "metadata": {
      "needs_background": "light"
     },
     "output_type": "display_data"
    }
   ],
   "source": [
    "error_and_plot(test,test_predictions_1,'LSTM and Unscaled data')"
   ]
  },
  {
   "cell_type": "code",
   "execution_count": null,
   "id": "a68e854e",
   "metadata": {},
   "outputs": [],
   "source": []
  },
  {
   "cell_type": "code",
   "execution_count": null,
   "id": "43331594",
   "metadata": {},
   "outputs": [],
   "source": []
  },
  {
   "cell_type": "code",
   "execution_count": null,
   "id": "f68ac4e3",
   "metadata": {},
   "outputs": [],
   "source": []
  }
 ],
 "metadata": {
  "kernelspec": {
   "display_name": "Python 3",
   "language": "python",
   "name": "python3"
  },
  "language_info": {
   "codemirror_mode": {
    "name": "ipython",
    "version": 3
   },
   "file_extension": ".py",
   "mimetype": "text/x-python",
   "name": "python",
   "nbconvert_exporter": "python",
   "pygments_lexer": "ipython3",
   "version": "3.8.8"
  }
 },
 "nbformat": 4,
 "nbformat_minor": 5
}
